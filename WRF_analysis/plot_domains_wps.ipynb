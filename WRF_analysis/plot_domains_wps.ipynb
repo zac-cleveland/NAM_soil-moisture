{
 "cells": [
  {
   "cell_type": "markdown",
   "id": "58dea0cc-e128-446b-a3d9-c8bb9fb57924",
   "metadata": {},
   "source": [
    "This script is used to plot the domains specified in the namelist.wps file.  plotgrids.ncl provides this feature, but sometimes I want to be able to visualize domains without having access to X11 forwarding on my linux system, or if I'm working on a windows machine and want to use python instead."
   ]
  },
  {
   "cell_type": "code",
   "execution_count": 5,
   "id": "217e8e97-1c6d-42d6-805d-2254260fb0da",
   "metadata": {},
   "outputs": [],
   "source": [
    "# import needed modules\n",
    "import os\n",
    "import numpy as np\n",
    "import matplotlib.pyplot as plt\n",
    "import cartopy.crs as ccrs\n",
    "import re\n",
    "\n",
    "# specify directories\n",
    "my_wps_path = '/glade/u/home/zcleveland/scratch/NAM_soil-moisture/wpsv4.6.0/'  # path to my compiled wps directory\n",
    "my_wrf_path = '/glade/u/home/zcleveland/scratch/NAM_soil-moisture/wrfv4.6.0/'  # path to my compiled wrf directory"
   ]
  },
  {
   "cell_type": "code",
   "execution_count": 20,
   "id": "d013d243-e415-49f6-b3cc-b6a06380b811",
   "metadata": {},
   "outputs": [],
   "source": [
    "def parse_namelist_wps(namelist_path):\n",
    "    params = {}\n",
    "\n",
    "    with open(namelist_path, 'r') as file:\n",
    "        lines = file.readlines()\n",
    "        for line in lines:\n",
    "            # remove comments and whitespace\n",
    "            line = line.split('!')[0].strip()\n",
    "            # check for '=', indicating parameter specification\n",
    "            if '=' in line:\n",
    "                param_line = line.split('=')\n",
    "                param = param_line[0].strip()\n",
    "                values = param_line[1].split(',')\n",
    "                values = [val.strip() for val in values if val]\n",
    "                params[param] = values\n",
    "    return params\n",
    "\n",
    "\n",
    "def calculate_domain_params(params):\n",
    "    dx = params.get('dx', 0)\n",
    "    dy = params.get('dy', 0)\n",
    "    e_we = params.get('e_we', [0])\n",
    "    e_sn = params.get('e_sn', [0])\n",
    "    ref_lat = params.get('ref_lat', 0.0)\n",
    "    ref_lon = params.get('ref_lon', 0.0)\n",
    "    \n",
    "    return dx, dy, ref_lat, ref_lon, e_we, e_sn\n",
    "\n",
    "def plot_wrf_domains(params):\n",
    "    fig = plt.figure(figsize=(10, 5))\n",
    "    ax = plt.axes(projection=ccrs.PlateCarree())\n",
    "    ax.stock_img()\n",
    "    ax.coastlines()\n",
    "\n",
    "    for i in range(int(params['max_dom'][0])):\n",
    "        lon_min = float(params['ref_lon'][0]) - (float(params['dx'][0]) * (float(params['we'][i]) - 1)) / 2\n",
    "        lon_max = float(params['ref_lon'][0]) + (float(params['dx'][0]) * (float(params['we'][i]) - 1)) / 2\n",
    "        lat_min = float(params['ref_lat'][0]) - (float(params['dy'][0]) * (float(params['sn'][i]) - 1)) / 2\n",
    "        lat_max = float(params['ref_lat'][0]) + (float(params['dy'][0]) * (float(params['sn'][i]) - 1)) / 2\n",
    "\n",
    "        ax.plot([lon_min, lon_max], [lat_min, lat_min], 'r')\n",
    "        ax.plot([lon_min, lon_max], [lat_max, lat_max], 'r')\n",
    "        ax.plot([lon_min, lon_min], [lat_min, lat_max], 'r')\n",
    "        ax.plot([lon_max, lon_max], [lat_min, lat_max], 'r')\n",
    "\n",
    "    # Add a white dot over the DC location (example)\n",
    "    # dc_lon, dc_lat = -77.26, 38.56\n",
    "    # ax.plot(dc_lon, dc_lat, 'wo')\n",
    "\n",
    "    plt.show()"
   ]
  },
  {
   "cell_type": "code",
   "execution_count": 21,
   "id": "890194a8-33ac-4490-afd1-78e821dda0d6",
   "metadata": {},
   "outputs": [
    {
     "ename": "TypeError",
     "evalue": "'<' not supported between instances of 'list' and 'float'",
     "output_type": "error",
     "traceback": [
      "\u001b[0;31m---------------------------------------------------------------------------\u001b[0m",
      "\u001b[0;31mTypeError\u001b[0m                                 Traceback (most recent call last)",
      "\u001b[0;32m/glade/derecho/scratch/zcleveland/tmp/ipykernel_10224/3361700246.py\u001b[0m in \u001b[0;36m<module>\u001b[0;34m\u001b[0m\n\u001b[1;32m      2\u001b[0m     \u001b[0mnamelist_path\u001b[0m \u001b[0;34m=\u001b[0m \u001b[0mos\u001b[0m\u001b[0;34m.\u001b[0m\u001b[0mpath\u001b[0m\u001b[0;34m.\u001b[0m\u001b[0mjoin\u001b[0m\u001b[0;34m(\u001b[0m\u001b[0mmy_wps_path\u001b[0m\u001b[0;34m,\u001b[0m \u001b[0;34m'namelist.wps'\u001b[0m\u001b[0;34m)\u001b[0m  \u001b[0;31m# Adjust the path as necessary\u001b[0m\u001b[0;34m\u001b[0m\u001b[0;34m\u001b[0m\u001b[0m\n\u001b[1;32m      3\u001b[0m     \u001b[0mparams\u001b[0m \u001b[0;34m=\u001b[0m \u001b[0mparse_namelist_wps\u001b[0m\u001b[0;34m(\u001b[0m\u001b[0mnamelist_path\u001b[0m\u001b[0;34m)\u001b[0m\u001b[0;34m\u001b[0m\u001b[0;34m\u001b[0m\u001b[0m\n\u001b[0;32m----> 4\u001b[0;31m     \u001b[0mdx\u001b[0m\u001b[0;34m,\u001b[0m \u001b[0mdy\u001b[0m\u001b[0;34m,\u001b[0m \u001b[0mref_lat\u001b[0m\u001b[0;34m,\u001b[0m \u001b[0mref_lon\u001b[0m\u001b[0;34m,\u001b[0m \u001b[0me_we\u001b[0m\u001b[0;34m,\u001b[0m \u001b[0me_sn\u001b[0m \u001b[0;34m=\u001b[0m \u001b[0mcalculate_domain_params\u001b[0m\u001b[0;34m(\u001b[0m\u001b[0mparams\u001b[0m\u001b[0;34m)\u001b[0m\u001b[0;34m\u001b[0m\u001b[0;34m\u001b[0m\u001b[0m\n\u001b[0m\u001b[1;32m      5\u001b[0m     \u001b[0mplot_wrf_domains\u001b[0m\u001b[0;34m(\u001b[0m\u001b[0mdx\u001b[0m\u001b[0;34m,\u001b[0m \u001b[0mdy\u001b[0m\u001b[0;34m,\u001b[0m \u001b[0mref_lat\u001b[0m\u001b[0;34m,\u001b[0m \u001b[0mref_lon\u001b[0m\u001b[0;34m,\u001b[0m \u001b[0me_we\u001b[0m\u001b[0;34m,\u001b[0m \u001b[0me_sn\u001b[0m\u001b[0;34m)\u001b[0m\u001b[0;34m\u001b[0m\u001b[0;34m\u001b[0m\u001b[0m\n",
      "\u001b[0;32m/glade/derecho/scratch/zcleveland/tmp/ipykernel_10224/2696977024.py\u001b[0m in \u001b[0;36mcalculate_domain_params\u001b[0;34m(params)\u001b[0m\n\u001b[1;32m     51\u001b[0m     \u001b[0me_sn\u001b[0m \u001b[0;34m=\u001b[0m \u001b[0mparams\u001b[0m\u001b[0;34m[\u001b[0m\u001b[0;34m'geogrid'\u001b[0m\u001b[0;34m]\u001b[0m\u001b[0;34m.\u001b[0m\u001b[0mget\u001b[0m\u001b[0;34m(\u001b[0m\u001b[0;34m'e_sn'\u001b[0m\u001b[0;34m,\u001b[0m \u001b[0;34m[\u001b[0m\u001b[0;36m0\u001b[0m\u001b[0;34m]\u001b[0m\u001b[0;34m)\u001b[0m\u001b[0;34m\u001b[0m\u001b[0;34m\u001b[0m\u001b[0m\n\u001b[1;32m     52\u001b[0m \u001b[0;34m\u001b[0m\u001b[0m\n\u001b[0;32m---> 53\u001b[0;31m     \u001b[0;32mif\u001b[0m \u001b[0mdx\u001b[0m \u001b[0;34m<\u001b[0m \u001b[0;36m1e-10\u001b[0m \u001b[0;32mand\u001b[0m \u001b[0mdy\u001b[0m \u001b[0;34m<\u001b[0m \u001b[0;36m1e-10\u001b[0m\u001b[0;34m:\u001b[0m\u001b[0;34m\u001b[0m\u001b[0;34m\u001b[0m\u001b[0m\n\u001b[0m\u001b[1;32m     54\u001b[0m         \u001b[0mdx\u001b[0m \u001b[0;34m=\u001b[0m \u001b[0;36m360.0\u001b[0m \u001b[0;34m/\u001b[0m \u001b[0;34m(\u001b[0m\u001b[0me_we\u001b[0m\u001b[0;34m[\u001b[0m\u001b[0;36m0\u001b[0m\u001b[0;34m]\u001b[0m \u001b[0;34m-\u001b[0m \u001b[0;36m1\u001b[0m\u001b[0;34m)\u001b[0m\u001b[0;34m\u001b[0m\u001b[0;34m\u001b[0m\u001b[0m\n\u001b[1;32m     55\u001b[0m         \u001b[0mdy\u001b[0m \u001b[0;34m=\u001b[0m \u001b[0;36m180.0\u001b[0m \u001b[0;34m/\u001b[0m \u001b[0;34m(\u001b[0m\u001b[0me_sn\u001b[0m\u001b[0;34m[\u001b[0m\u001b[0;36m0\u001b[0m\u001b[0;34m]\u001b[0m \u001b[0;34m-\u001b[0m \u001b[0;36m1\u001b[0m\u001b[0;34m)\u001b[0m\u001b[0;34m\u001b[0m\u001b[0;34m\u001b[0m\u001b[0m\n",
      "\u001b[0;31mTypeError\u001b[0m: '<' not supported between instances of 'list' and 'float'"
     ]
    }
   ],
   "source": [
    "if __name__ == \"__main__\":\n",
    "    namelist_path = os.path.join(my_wps_path, 'namelist.wps')  # Adjust the path as necessary\n",
    "    params = parse_namelist_wps(namelist_path)\n",
    "    dx, dy, ref_lat, ref_lon, e_we, e_sn = calculate_domain_params(params)\n",
    "    plot_wrf_domains(dx, dy, ref_lat, ref_lon, e_we, e_sn)"
   ]
  },
  {
   "cell_type": "code",
   "execution_count": null,
   "id": "2d6dab1b-2ae3-42e9-afc8-a0987bed27de",
   "metadata": {},
   "outputs": [],
   "source": []
  }
 ],
 "metadata": {
  "kernelspec": {
   "display_name": "Python [conda env:.conda-mland_xr]",
   "language": "python",
   "name": "conda-env-.conda-mland_xr-py"
  },
  "language_info": {
   "codemirror_mode": {
    "name": "ipython",
    "version": 3
   },
   "file_extension": ".py",
   "mimetype": "text/x-python",
   "name": "python",
   "nbconvert_exporter": "python",
   "pygments_lexer": "ipython3",
   "version": "3.9.7"
  }
 },
 "nbformat": 4,
 "nbformat_minor": 5
}
