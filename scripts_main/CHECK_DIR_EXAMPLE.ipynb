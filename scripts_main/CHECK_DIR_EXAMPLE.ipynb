{
 "cells": [
  {
   "cell_type": "code",
   "execution_count": 1,
   "id": "8065e4c2-16e5-46ea-951e-19e149866bec",
   "metadata": {},
   "outputs": [],
   "source": [
    "# Define directory assignments with custom markers\n",
    "root_dir = \"/glade/u/home/zcleveland/NAM_soil-moisture\"  # DIR_MARKER:ROOT_DIR\n",
    "old_dir = \"/EXAMPLE/PATH/FOR/DIR/UPDATE/FUNCTION/\"        # DIR_MARKER:OLD_DIR\n",
    "new_dir = \"/EXAMPLE/PATH/FOR/Hello_World/DIR/UPDATE/FUNCTION/\"  # DIR_MARKER:NEW_DIR"
   ]
  },
  {
   "cell_type": "code",
   "execution_count": null,
   "id": "2628d0df-02f0-4b5d-8437-853851360bfe",
   "metadata": {},
   "outputs": [],
   "source": [
    "# some other random stuff"
   ]
  }
 ],
 "metadata": {
  "kernelspec": {
   "display_name": "Python [conda env:.conda-mland_xr]",
   "language": "python",
   "name": "conda-env-.conda-mland_xr-py"
  },
  "language_info": {
   "codemirror_mode": {
    "name": "ipython",
    "version": 3
   },
   "file_extension": ".py",
   "mimetype": "text/x-python",
   "name": "python",
   "nbconvert_exporter": "python",
   "pygments_lexer": "ipython3",
   "version": "3.9.7"
  }
 },
 "nbformat": 4,
 "nbformat_minor": 5
}
