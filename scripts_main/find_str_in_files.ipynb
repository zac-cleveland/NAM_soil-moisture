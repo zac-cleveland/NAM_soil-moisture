{
 "cells": [
  {
   "cell_type": "markdown",
   "id": "fabde75a-209d-4940-b71f-d9186214942e",
   "metadata": {},
   "source": [
    "This code loops through a \"root directory\", finds any python (.py) or jupyter notebook (.ipynb) file, looks through the code to find a specified string, \"target_str\", and if it exists, appends the filepath to a list."
   ]
  },
  {
   "cell_type": "code",
   "execution_count": 1,
   "id": "553642cb-de08-4e83-947f-33e9bdb4d5c0",
   "metadata": {},
   "outputs": [],
   "source": [
    "# import functions\n",
    "import os\n",
    "import fnmatch"
   ]
  },
  {
   "cell_type": "code",
   "execution_count": 5,
   "id": "8049ba07-0675-46b6-8118-8a60bb3a7b34",
   "metadata": {},
   "outputs": [],
   "source": [
    "# define function to find all .py or .ipynb files and search for the string\n",
    "# then append file paths to a list and print at the end\n",
    "def find_files(root_dir, target_str):\n",
    "    # Initialize an empty dictionary to store filename and filepath\n",
    "    file_dict = {}\n",
    "\n",
    "    # Loop through the root directory and all subdirectories\n",
    "    for dirpath, dirnames, filenames in os.walk(root_dir):\n",
    "        for filename in filenames:\n",
    "            # Check if the file is either a .py or .ipynb file\n",
    "            if fnmatch.fnmatch(filename, '*.py') or fnmatch.fnmatch(filename, '*.ipynb'):\n",
    "                filepath = os.path.join(dirpath, filename)\n",
    "\n",
    "                # Check if the target string exists in the file\n",
    "                with open(filepath, 'r', encoding='utf-8', errors='ignore') as file:\n",
    "                    if target_str in file.read():\n",
    "                        # Store the filename and filepath in the dictionary\n",
    "                        file_dict[filename] = filepath\n",
    "\n",
    "    return file_dict"
   ]
  },
  {
   "cell_type": "code",
   "execution_count": 8,
   "id": "7a4f227d-8f57-4988-9921-ddbf196aeb63",
   "metadata": {},
   "outputs": [
    {
     "name": "stdout",
     "output_type": "stream",
     "text": [
      "find_str_in_files.ipynb\n",
      "find_str_in_files.py\n",
      "find_str_in_files-checkpoint.ipynb\n",
      "find_str_in_files-checkpoint.py\n",
      "onset_retreat_calc_tcw.py\n",
      "onset_retreat_calc_tcw.ipynb\n",
      "onset_retreat_calc_tcw-checkpoint.ipynb\n",
      "onset_calc_twc.py\n",
      "onset_calc_twc_v1.ipynb\n",
      "onset_calc_twc_v1-checkpoint.ipynb\n",
      "onset_calc_twc-checkpoint.ipynb\n",
      "onset_calc_twc-checkpoint.py\n"
     ]
    }
   ],
   "source": [
    "# execute the function above after specifying root_dir and target_str\n",
    "if __name__ == \"__main__\":\n",
    "    # Specify the root directory\n",
    "    root_dir = \"/glade/u/home/zcleveland/NAM_soil-moisture\"\n",
    "\n",
    "    # Specify the target string\n",
    "    target_str = \"tcw_max_stats\"\n",
    "\n",
    "    # Find files containing the target string\n",
    "    files_with_target = find_files(root_dir, target_str)\n",
    "\n",
    "    # Print just the filenames\n",
    "    for filename in files_with_target.keys():\n",
    "        print(filename)"
   ]
  },
  {
   "cell_type": "code",
   "execution_count": 10,
   "id": "19cfd6ec-157a-45c7-8e9e-40ba50fe94b8",
   "metadata": {},
   "outputs": [
    {
     "data": {
      "text/plain": [
       "'/glade/u/home/zcleveland/NAM_soil-moisture/ERA5_analysis/scripts/subsetting/old_versions/onset_calc_twc_v1.ipynb'"
      ]
     },
     "execution_count": 10,
     "metadata": {},
     "output_type": "execute_result"
    }
   ],
   "source": [
    "files_with_target['onset_calc_twc_v1.ipynb']"
   ]
  },
  {
   "cell_type": "code",
   "execution_count": null,
   "id": "58ac7ad6-e6ca-4b85-b4ff-e689663025d0",
   "metadata": {},
   "outputs": [],
   "source": []
  }
 ],
 "metadata": {
  "kernelspec": {
   "display_name": "Python [conda env:.conda-mland_xr]",
   "language": "python",
   "name": "conda-env-.conda-mland_xr-py"
  },
  "language_info": {
   "codemirror_mode": {
    "name": "ipython",
    "version": 3
   },
   "file_extension": ".py",
   "mimetype": "text/x-python",
   "name": "python",
   "nbconvert_exporter": "python",
   "pygments_lexer": "ipython3",
   "version": "3.9.7"
  }
 },
 "nbformat": 4,
 "nbformat_minor": 5
}
