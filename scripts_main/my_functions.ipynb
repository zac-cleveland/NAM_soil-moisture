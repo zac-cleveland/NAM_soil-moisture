{
 "cells": [
  {
   "cell_type": "markdown",
   "id": "7deab450-97ca-4289-ba2a-9aa4953a559b",
   "metadata": {},
   "source": [
    "This script contains all of the functions I use regularly.  The goal is to be able to import them into various scripts to help keep organization and readability of different scripts."
   ]
  },
  {
   "cell_type": "code",
   "execution_count": 3,
   "id": "b48b5e53-6993-4502-bc1e-9b16d036f2a7",
   "metadata": {},
   "outputs": [],
   "source": [
    "# import needed items\n",
    "import sys\n",
    "import os\n",
    "\n",
    "# add my directories module to path\n",
    "sys.path.append('/glade/u/home/zcleveland/NAM_soil-moisture/scripts_main/')"
   ]
  },
  {
   "cell_type": "code",
   "execution_count": 9,
   "id": "3f073ccf-abbe-4862-b643-44b75a9b2d58",
   "metadata": {},
   "outputs": [],
   "source": [
    "# check my_directories for any listed directories that do NOT exist\n",
    "def check_my_directories():\n",
    "    # import my directories\n",
    "    from my_directories import my_dirs\n",
    "\n",
    "    # create list of missing directories\n",
    "    missing_dirs = [(key, value) for key, value in my_dirs.items() if not os.path.exists(value)]\n",
    "\n",
    "    # print missing directories\n",
    "    if missing_dirs:\n",
    "        print(\"The following directories do not exist:\")\n",
    "        for key, path in missing_dirs:\n",
    "            print(f\"{key}: {path}\")\n",
    "    else:\n",
    "        print(\"All directories exist\")\n",
    "\n",
    "    return missing_dirs"
   ]
  },
  {
   "cell_type": "code",
   "execution_count": null,
   "id": "1d5eea5d-4463-4514-a63a-cf476e2dddef",
   "metadata": {},
   "outputs": [],
   "source": [
    "# define function to check existence of directories\n",
    "# return list of missing directories\n",
    "def check_update_directories(root_dir, old_dir, new_dir):\n",
    "    dir_dict = {\n",
    "        \"root_dir\": os.path.exists(root_dir),\n",
    "        \"old_dir\": os.path.exists(old_dir),\n",
    "        \"new_dir\": os.path.exists(new_dir)\n",
    "    }\n",
    "    missing_dirs = [key for key, value in dir_dict.items() if not value]\n",
    "    if missing_dirs:\n",
    "        print(\"The following directories do not exist:\\n\")\n",
    "        for dir in missing_dirs:\n",
    "            print(dir)\n",
    "    else:\n",
    "        print(\"All directories verified to exist:\\n\")\n",
    "        print(f'\\nroot_dir <{root_dir}>',\n",
    "              f'\\nold_dir <{old_dir}>',\n",
    "              f'\\nnew_dir <{new_dir}>')\n",
    "    return missing_dirs"
   ]
  },
  {
   "cell_type": "code",
   "execution_count": null,
   "id": "05d8e714-6ae5-4042-9a86-07740cb22bf3",
   "metadata": {},
   "outputs": [],
   "source": [
    "# define function to make user verify they want to continue\n",
    "def verify_continue():\n",
    "    user_input = input('Continue with changes? This is the LAST check.'\n",
    "                       '\\n\"y\" for yes. Press any other key to abort:')\n",
    "    if user_input.lower() != 'y':  # abort code\n",
    "        print(f'\\nYou selected: \"{user_input}\". Code will not run.')\n",
    "        return False\n",
    "    else:  # continue code\n",
    "        print(f'\\nYou selected: \"{user_input}\". Code will continue.')\n",
    "        return True"
   ]
  },
  {
   "cell_type": "code",
   "execution_count": null,
   "id": "3149ff79-bed3-48fe-8214-c8a251067e6d",
   "metadata": {},
   "outputs": [],
   "source": [
    "# define the function to find the .py and .ipynb files\n",
    "def find_python_scripts(root_dir):\n",
    "    py_file_paths = []\n",
    "    # traverse through all directories and subdirectories\n",
    "    for dir_path, _, files in os.walk(root_dir):\n",
    "        for file_name in files:\n",
    "            if file_name.endswith(('.py', '.ipynb')):\n",
    "                py_file_paths.append(os.path.join(dir_path, file_name))\n",
    "    # return python and jupyter notebook files\n",
    "    return py_file_paths"
   ]
  },
  {
   "cell_type": "code",
   "execution_count": null,
   "id": "3c9ac223-fe66-41d4-8363-5aa178c9f396",
   "metadata": {},
   "outputs": [],
   "source": [
    "# define a function to find which files will be updated\n",
    "def files_to_update(py_file_paths, old_dir, new_dir):\n",
    "    update_files = []\n",
    "    # loop through py files and read in contents\n",
    "    for file_path in py_file_paths:\n",
    "        # read in contents\n",
    "        with open(file_path, 'r') as file:\n",
    "            file_contents = file.read()\n",
    "\n",
    "        # replace old contents with new contents\n",
    "        new_contents = file_contents.replace(old_dir, new_dir)\n",
    "        if new_contents != file_contents:  # only append to list if file and new contents are different\n",
    "            update_files.append(file_path)\n",
    "    print('\\nThe following files will be updated:\\n')\n",
    "    for file in update_files:\n",
    "        print(file)\n",
    "\n",
    "    return update_files  # only files that will be updated"
   ]
  },
  {
   "cell_type": "code",
   "execution_count": null,
   "id": "50449c45-af0e-45ed-9dbb-600d8d2290f8",
   "metadata": {},
   "outputs": [],
   "source": [
    "# define a function to replace old_dir with new_dir\n",
    "def update_py_files(update_files, old_dir, new_dir):\n",
    "    # loop through py files and update them\n",
    "    for py_file in update_files:\n",
    "        # open files and read contents\n",
    "        with open(py_file, 'r') as file:\n",
    "            file_contents = file.read()\n",
    "\n",
    "        new_contents = file_contents.replace(old_dir, new_dir)\n",
    "        # write updated contents back to file\n",
    "        with open(py_file, 'w') as file:\n",
    "            file.write(new_contents)"
   ]
  },
  {
   "cell_type": "code",
   "execution_count": null,
   "id": "cf49e590-4a5f-448f-a5e8-5ab34b0aca1f",
   "metadata": {},
   "outputs": [],
   "source": [
    "# define the function to actually run the code to update directories\n",
    "def update_directories(root_dir, old_dir, new_dir):\n",
    "\n",
    "    # check for any non-existent directories and abort if any don't exist\n",
    "    if check_update_directories(root_dir, old_dir, new_dir):\n",
    "        check_override = input('\\nWould you like to override and continue anyway?'\n",
    "                               '\\n\"y\" for yes. Press any other key to abort: ')\n",
    "        if check_override.lower() != 'y':\n",
    "            print('\\nCode will not continue.')\n",
    "            return\n",
    "        else:\n",
    "            print('\\nOverride confirmed.  Code will continue.')\n",
    "\n",
    "    # find all python and jupyter notebook files in root_dir\n",
    "    py_file_paths = find_python_scripts(root_dir)\n",
    "\n",
    "    # list files that will be updated\n",
    "    update_files = files_to_update(py_file_paths, old_dir, new_dir)\n",
    "\n",
    "    # verify the user wants to continue\n",
    "    if not verify_continue():  # abort\n",
    "        return\n",
    "    else:  # continue with updates\n",
    "        update_py_files(update_files, old_dir, new_dir)"
   ]
  }
 ],
 "metadata": {
  "kernelspec": {
   "display_name": "Python [conda env:.conda-mland_xr]",
   "language": "python",
   "name": "conda-env-.conda-mland_xr-py"
  },
  "language_info": {
   "codemirror_mode": {
    "name": "ipython",
    "version": 3
   },
   "file_extension": ".py",
   "mimetype": "text/x-python",
   "name": "python",
   "nbconvert_exporter": "python",
   "pygments_lexer": "ipython3",
   "version": "3.9.7"
  }
 },
 "nbformat": 4,
 "nbformat_minor": 5
}
