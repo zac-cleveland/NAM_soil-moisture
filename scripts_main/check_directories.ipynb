{
 "cells": [
  {
   "cell_type": "markdown",
   "id": "913fe563-8195-49cb-95ef-66892e4064c9",
   "metadata": {},
   "source": [
    "This code loops through a root directory, specified by the user, and find all python (.py) and Jupyter Notebook (.ipynb) files.  It then looks for the part of the code that specifies directories in which to work, and checks if they exist.  If any do NOT, it returns the directory name(s), and the location of the file(s) in which they exist."
   ]
  },
  {
   "cell_type": "code",
   "execution_count": 1,
   "id": "b3478ce2-2813-4aa2-a2a9-9c3f8e6a98c1",
   "metadata": {},
   "outputs": [],
   "source": [
    "# import needed functions\n",
    "import os\n",
    "import re\n",
    "import glob\n",
    "import fileinput\n",
    "import sys"
   ]
  },
  {
   "cell_type": "code",
   "execution_count": 2,
   "id": "ce7c9dff-7f37-4d2c-bc6b-6b44e0baa4a0",
   "metadata": {},
   "outputs": [],
   "source": [
    "# specify root directory to search through\n",
    "from test_dirs import dir1"
   ]
  },
  {
   "cell_type": "code",
   "execution_count": null,
   "id": "e07abc18-3aa0-4af2-a61b-79cfe49b6c3d",
   "metadata": {},
   "outputs": [],
   "source": [
    "# define the function to find the .py and .ipynb files\n",
    "def find_python_scripts(root_dir):\n",
    "    py_file_paths = []\n",
    "    # traverse through all directories and subdirectories\n",
    "    for dir_path, _, files in os.walk(root_dir):\n",
    "        for file_name in files:\n",
    "            if file_name.endswith(('.py', '.ipynb')):\n",
    "                py_file_paths.append(os.path.join(dir_path, file_name))\n",
    "    # return python and jupyter notebook files\n",
    "    return py_file_paths"
   ]
  },
  {
   "cell_type": "code",
   "execution_count": null,
   "id": "9759575c-3385-4529-8246-f49390860ce8",
   "metadata": {},
   "outputs": [],
   "source": [
    "# define a function to find which files will be updated\n",
    "def files_to_update(py_file_paths):\n",
    "    missing_dir_files = []\n",
    "    # loop through py files and read in contents\n",
    "    for file_path in py_file_paths:\n",
    "        # read in contents\n",
    "        with open(file_path, 'r') as file:\n",
    "            file_contents = file.read()\n",
    "\n",
    "        # replace old contents with new contents\n",
    "        new_contents = file_contents.replace(old_dir, new_dir)\n",
    "        if new_contents != file_contents:  # only append to list if file and new contents are different\n",
    "            update_files.append(file_path)\n",
    "    print('\\nThe following files will be updated:\\n')\n",
    "    for file in update_files:\n",
    "        print(file)\n",
    "\n",
    "    return update_files  # only files that will be updated"
   ]
  },
  {
   "cell_type": "code",
   "execution_count": null,
   "id": "9037af10-e2da-47ec-bf0e-2fec536259b6",
   "metadata": {},
   "outputs": [],
   "source": [
    "# define function to check existence of directories\n",
    "# return list of missing directories\n",
    "def check_directories(root_dir, old_dir, new_dir):\n",
    "    dir_dict = {\n",
    "        \"root_dir\": os.path.exists(root_dir),\n",
    "        \"old_dir\": os.path.exists(old_dir),\n",
    "        \"new_dir\": os.path.exists(new_dir)\n",
    "    }\n",
    "    missing_dirs = [key for key, value in dir_dict.items() if not value]\n",
    "    if missing_dirs:\n",
    "        print(\"The following directories do not exist:\\n\")\n",
    "        for dir in missing_dirs:\n",
    "            print(dir)\n",
    "    else:\n",
    "        print(\"All directories verified to exist:\\n\")\n",
    "        print(f'\\nroot_dir <{root_dir}>',\n",
    "              f'\\nold_dir <{old_dir}>',\n",
    "              f'\\nnew_dir <{new_dir}>')\n",
    "    return missing_dirs"
   ]
  },
  {
   "cell_type": "code",
   "execution_count": null,
   "id": "88d2926f-7e5a-4420-a020-db74a32ed9a0",
   "metadata": {},
   "outputs": [],
   "source": []
  }
 ],
 "metadata": {
  "kernelspec": {
   "display_name": "Python [conda env:.conda-mland_xr]",
   "language": "python",
   "name": "conda-env-.conda-mland_xr-py"
  },
  "language_info": {
   "codemirror_mode": {
    "name": "ipython",
    "version": 3
   },
   "file_extension": ".py",
   "mimetype": "text/x-python",
   "name": "python",
   "nbconvert_exporter": "python",
   "pygments_lexer": "ipython3",
   "version": "3.9.7"
  }
 },
 "nbformat": 4,
 "nbformat_minor": 5
}
