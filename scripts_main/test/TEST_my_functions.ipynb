{
 "cells": [
  {
   "cell_type": "code",
   "execution_count": 1,
   "id": "64bcb043-099f-48f8-88fa-80ba6e1404f6",
   "metadata": {},
   "outputs": [],
   "source": [
    "# import needed functions\n",
    "import os\n",
    "import re\n",
    "import glob\n",
    "import fileinput"
   ]
  },
  {
   "cell_type": "code",
   "execution_count": 1,
   "id": "9a2a7f1c-c108-480b-aeb7-f9f6e6971ab1",
   "metadata": {},
   "outputs": [],
   "source": [
    "def test_function(a=1, b=2, c=3):\n",
    "    print(a,b,c)"
   ]
  },
  {
   "cell_type": "code",
   "execution_count": 2,
   "id": "2cbc655e-b609-4091-a1f6-c5498bd11f25",
   "metadata": {},
   "outputs": [],
   "source": [
    "def other_function(a='a', b='b', c='c'):\n",
    "    print(a,b,c)"
   ]
  }
 ],
 "metadata": {
  "kernelspec": {
   "display_name": "Python [conda env:.conda-mland_xr]",
   "language": "python",
   "name": "conda-env-.conda-mland_xr-py"
  },
  "language_info": {
   "codemirror_mode": {
    "name": "ipython",
    "version": 3
   },
   "file_extension": ".py",
   "mimetype": "text/x-python",
   "name": "python",
   "nbconvert_exporter": "python",
   "pygments_lexer": "ipython3",
   "version": "3.9.7"
  }
 },
 "nbformat": 4,
 "nbformat_minor": 5
}
