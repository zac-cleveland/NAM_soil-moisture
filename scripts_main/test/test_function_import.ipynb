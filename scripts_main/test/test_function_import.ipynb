{
 "cells": [
  {
   "cell_type": "code",
   "execution_count": 5,
   "id": "073602ac-006b-42ae-95ee-f52b3c42e162",
   "metadata": {},
   "outputs": [],
   "source": [
    "# import needed functions\n",
    "import os\n",
    "import re\n",
    "import glob\n",
    "import fileinput\n",
    "import sys\n",
    "sys.path.append('/glade/u/home/zcleveland/NAM_soil-moisture/scripts_main')"
   ]
  },
  {
   "cell_type": "code",
   "execution_count": 6,
   "id": "76eddc6a-6cc5-4f21-9778-abb0eee20bd9",
   "metadata": {},
   "outputs": [],
   "source": [
    "from TEST_my_functions import *"
   ]
  },
  {
   "cell_type": "code",
   "execution_count": 7,
   "id": "1fa70423-5944-49fc-8bbd-3544cb7bb5dd",
   "metadata": {},
   "outputs": [
    {
     "name": "stdout",
     "output_type": "stream",
     "text": [
      "1 2 3\n"
     ]
    }
   ],
   "source": [
    "test_function()"
   ]
  },
  {
   "cell_type": "code",
   "execution_count": 8,
   "id": "d048ef0d-bbd1-44d3-84b9-68934dc936b2",
   "metadata": {},
   "outputs": [
    {
     "name": "stdout",
     "output_type": "stream",
     "text": [
      "a b c\n"
     ]
    }
   ],
   "source": [
    "other_function()"
   ]
  },
  {
   "cell_type": "code",
   "execution_count": 9,
   "id": "96b0e2a8-c3b8-4912-8f6f-5af6f7d6a7b1",
   "metadata": {},
   "outputs": [],
   "source": [
    "from TEST_my_variables import test_var as var"
   ]
  },
  {
   "cell_type": "code",
   "execution_count": 10,
   "id": "e62ee4b0-4f76-49a6-bb54-6aaa978f05ca",
   "metadata": {},
   "outputs": [
    {
     "data": {
      "text/plain": [
       "['asdf', 'fdsa', 'hjkl', 'lkjh']"
      ]
     },
     "execution_count": 10,
     "metadata": {},
     "output_type": "execute_result"
    }
   ],
   "source": [
    "var"
   ]
  }
 ],
 "metadata": {
  "kernelspec": {
   "display_name": "Python [conda env:.conda-mland_xr]",
   "language": "python",
   "name": "conda-env-.conda-mland_xr-py"
  },
  "language_info": {
   "codemirror_mode": {
    "name": "ipython",
    "version": 3
   },
   "file_extension": ".py",
   "mimetype": "text/x-python",
   "name": "python",
   "nbconvert_exporter": "python",
   "pygments_lexer": "ipython3",
   "version": "3.9.7"
  }
 },
 "nbformat": 4,
 "nbformat_minor": 5
}
