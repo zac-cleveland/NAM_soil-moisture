{
 "cells": [
  {
   "cell_type": "code",
   "execution_count": null,
   "id": "bdb8fb5f-166b-4e8b-8790-d12964367a01",
   "metadata": {},
   "outputs": [],
   "source": [
    "test_var = ['asdf',\n",
    "            'fdsa',\n",
    "            'hjkl',\n",
    "            'lkjh',\n",
    "           ]"
   ]
  }
 ],
 "metadata": {
  "kernelspec": {
   "display_name": "Python [conda env:.conda-mland_xr]",
   "language": "python",
   "name": "conda-env-.conda-mland_xr-py"
  },
  "language_info": {
   "codemirror_mode": {
    "name": "ipython",
    "version": 3
   },
   "file_extension": ".py",
   "mimetype": "text/x-python",
   "name": "python",
   "nbconvert_exporter": "python",
   "pygments_lexer": "ipython3",
   "version": "3.9.7"
  }
 },
 "nbformat": 4,
 "nbformat_minor": 5
}
