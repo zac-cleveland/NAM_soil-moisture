{
 "cells": [
  {
   "cell_type": "markdown",
   "id": "1111856d-bb39-4795-98be-5bf650124ca6",
   "metadata": {},
   "source": [
    "This script opens and extracts nino-3 data and stores it as a netcdf file."
   ]
  },
  {
   "cell_type": "code",
   "execution_count": 5,
   "id": "8432e579-26bc-4f62-b223-8c913fe46b83",
   "metadata": {},
   "outputs": [],
   "source": [
    "# import needed modules\n",
    "import pandas as pd\n",
    "import xarray as xr\n",
    "import os"
   ]
  },
  {
   "cell_type": "code",
   "execution_count": 2,
   "id": "dc0524b2-5d54-48c7-be75-acbf9a9bc86a",
   "metadata": {},
   "outputs": [],
   "source": [
    "misc_data_path = '/glade/u/home/zcleveland/scratch/misc_data/'  # path to misc data"
   ]
  },
  {
   "cell_type": "code",
   "execution_count": 15,
   "id": "3a6de2ea-2e95-4ac0-b32d-7e714a902269",
   "metadata": {},
   "outputs": [],
   "source": [
    "# open nino-3 .csv file and convert it to netcdf\n",
    "def nino_3_extractor(overwrite_flag=False):\n",
    "\n",
    "    # define in and out paths\n",
    "    in_fp = f'{misc_data_path}nino-3/nino-3_1980-2019.csv'\n",
    "    out_fp = f'{misc_data_path}nino-3/nino-3_1980-2019.nc'\n",
    "\n",
    "    if os.path.exists(out_fp):\n",
    "        if not overwrite_flag:\n",
    "            return  # don't continue if file already exists and overwrite_flag is False\n",
    "\n",
    "    # load csv file\n",
    "    df = pd.read_csv(in_fp)\n",
    "\n",
    "    # rename first column to year\n",
    "    df.rename(columns={'Unnamed: 0': 'year'}, inplace=True)\n",
    "\n",
    "    # melt dataframe for single time dimension\n",
    "    df_melted = df.melt(id_vars='year', var_name='month', value_name='nino-3')\n",
    "\n",
    "    # create datetime index\n",
    "    df_melted['time'] = pd.to_datetime(df_melted['year'].astype(str) + df_melted['month'], format='%Y%B')\n",
    "\n",
    "    # drop redundant year and month column\n",
    "    df_melted = df_melted.drop(columns=['year', 'month'])\n",
    "\n",
    "    # set datetime index as df\n",
    "    df_melted = df_melted.set_index('time')\n",
    "\n",
    "    # convert to xarray dataset\n",
    "    ds = df_melted.to_xarray()\n",
    "\n",
    "    # ensure dtype is float64\n",
    "    ds['nino-3'] = ds['nino-3'].astype('float64')\n",
    "\n",
    "    # save to netcdf\n",
    "    ds.to_netcdf(out_fp)"
   ]
  },
  {
   "cell_type": "code",
   "execution_count": 16,
   "id": "c7dae3c9-07a3-4195-afa4-0896d37c8c64",
   "metadata": {},
   "outputs": [],
   "source": [
    "# run the nino-3 code\n",
    "if __name__ == '__main__':\n",
    "    nino_3_extractor()"
   ]
  },
  {
   "cell_type": "code",
   "execution_count": null,
   "id": "05cbeaa0-f85e-40c2-a4bc-8bc0ea92a7ef",
   "metadata": {},
   "outputs": [],
   "source": []
  }
 ],
 "metadata": {
  "kernelspec": {
   "display_name": "Python [conda env:.conda-mland_xr]",
   "language": "python",
   "name": "conda-env-.conda-mland_xr-py"
  },
  "language_info": {
   "codemirror_mode": {
    "name": "ipython",
    "version": 3
   },
   "file_extension": ".py",
   "mimetype": "text/x-python",
   "name": "python",
   "nbconvert_exporter": "python",
   "pygments_lexer": "ipython3",
   "version": "3.9.7"
  }
 },
 "nbformat": 4,
 "nbformat_minor": 5
}
