{
 "cells": [
  {
   "cell_type": "code",
   "execution_count": 1,
   "id": "4009b696-768a-403a-b7e7-00d2633762d3",
   "metadata": {},
   "outputs": [],
   "source": [
    "import sys\n",
    "\n",
    "import numpy as np\n",
    "import netCDF4 as nc\n",
    "import numpy.matlib\n",
    "import datetime\n",
    "import xarray as xr\n",
    "from scipy import interpolate\n",
    "from numpy import ma\n",
    "from scipy import stats\n",
    "import scipy.io as sio\n",
    "import pickle as pickle\n",
    "from sklearn import linear_model\n",
    "import numpy.ma as ma\n",
    "import matplotlib.patches as mpatches\n",
    "from shapely.geometry.polygon import LinearRing\n",
    "\n",
    "import scipy as sp\n",
    "import pandas as pd\n",
    "\n",
    "import time\n",
    "\n",
    "from copy import copy \n",
    "\n",
    "# Plotting\n",
    "import matplotlib as mpl\n",
    "import matplotlib.pyplot as plt\n",
    "from matplotlib import ticker\n",
    "\n",
    "from matplotlib.ticker import FormatStrFormatter\n",
    "from mpl_toolkits.axes_grid1.axes_divider import HBoxDivider\n",
    "import mpl_toolkits.axes_grid1.axes_size as Size\n",
    "from mpl_toolkits.axes_grid1 import make_axes_locatable\n",
    "\n",
    "# OS interaction\n",
    "import os\n",
    "import sys\n",
    "import cftime\n",
    "\n",
    "import cartopy.crs as ccrs\n",
    "from cartopy.util import add_cyclic_point\n",
    "\n",
    "from IPython.display import display\n",
    "from IPython.display import HTML\n",
    "import IPython.core.display as di # Example: di.display_html('<h3>%s:</h3>' % str, raw=True)\n",
    "\n",
    "import matplotlib.colors as mcolors\n",
    "\n",
    "import glob\n",
    "import dask\n",
    "import dask.bag as db\n",
    "\n",
    "from scipy import interpolate\n",
    "\n",
    "import statsmodels.stats.multitest as multitest\n",
    "\n",
    "from matplotlib.gridspec import GridSpec\n",
    "from cartopy.crs import EqualEarth, PlateCarree"
   ]
  },
  {
   "cell_type": "code",
   "execution_count": 29,
   "id": "d2cdff77-6158-4335-888e-e5936cfb4b6d",
   "metadata": {},
   "outputs": [],
   "source": [
    "esa_path = '/glade/u/home/zcleveland/scratch/ESA_data/dsw/'  # base path to full ESA dataset I downloaded\n",
    "out_path = '/glade/u/home/zcleveland/scratch/ESA_data/regrid'  # base path to save the subsetted data"
   ]
  },
  {
   "cell_type": "code",
   "execution_count": 55,
   "id": "f86da921-ce33-4d4a-a23b-fa456ec9800c",
   "metadata": {},
   "outputs": [
    {
     "ename": "SyntaxError",
     "evalue": "invalid syntax (1655701015.py, line 33)",
     "output_type": "error",
     "traceback": [
      "\u001b[0;36m  File \u001b[0;32m\"/glade/derecho/scratch/zcleveland/tmp/ipykernel_36371/1655701015.py\"\u001b[0;36m, line \u001b[0;32m33\u001b[0m\n\u001b[0;31m    ds_shifted = ds_interp.roll(longitude=(ds_interp.dims['longitude']//2, roll_coords=True))\u001b[0m\n\u001b[0m                                                                                      ^\u001b[0m\n\u001b[0;31mSyntaxError\u001b[0m\u001b[0;31m:\u001b[0m invalid syntax\n"
     ]
    }
   ],
   "source": [
    "# create a function to regrid the ESA data and interpolate to match ERA5 data \n",
    "# ERA5 dimensions (latitude:81 (40,20,0.25), longitude:81 (240,260,0.25))\n",
    "# old ESA dimensions (latitude: 80 (39.875,20.125,0.25), longitude:80 (-119.875,-100.125,0.25))\n",
    "# new ESA dimensions (latitude:81 (40,20,0.25), longitude:81 (240,260,0.25))\n",
    "def esa_regrid(year=1980):\n",
    "\n",
    "    # define path to write new data\n",
    "    out_fn = f'ESA_COMBINED_regrid_sm_{year}01_{year}12_dsw.nc'  # filename\n",
    "    out_fp = os.path.join(out_path, out_fn)  # total filepath with filename\n",
    "\n",
    "    # check if file already exists\n",
    "    if (os.path.exists(f'{out_fp}')):\n",
    "        print(f'File {out_fn} already exists. Skipping...\\n')\n",
    "        return\n",
    "    \n",
    "    files = glob.glob(f'{esa_path}ESA_COMBINED_sm_{year}01_{year}12_dsw.nc')\n",
    "    files.sort()\n",
    "\n",
    "    with dask.config.set(**{'array.slicing.split_large_chunks': True}): # only for systems with dask\n",
    "        ds = xr.open_mfdataset(files)  # open dataset\n",
    "            \n",
    "        # define lat/lon boundaries for subsetting\n",
    "        lat_range = np.arange(40,19.75,-0.25)\n",
    "        lon_range = np.arange(-120, -99.875, 0.25)\n",
    "\n",
    "        # adjust values of longitudinal coordinates\n",
    "        ds_adjusted = ds.reindex(latitude=lat_range, longitude=lon_range)\n",
    "\n",
    "        # interpolate the data to add the extra datapoint in each direction\n",
    "        ds_interp = ds_adjusted.interp(latitude=lat_range, longitude=lon_range)\n",
    "\n",
    "        # shift the longitudinal coordinate to the 0-360 convention\n",
    "        ds_shifted = ds_interp.roll(longitude=(ds_interp.dims['longitude']//2, roll_coords=True))\n",
    "\n",
    "        # adjust the values of the shifted longitudinal coordinate\n",
    "        ds_shifted['longitude'] = ((ds_shifted.longitude + 360) % 360)\n",
    "\n",
    "    return ds_interp\n",
    "\n",
    "    "
   ]
  },
  {
   "cell_type": "code",
   "execution_count": 43,
   "id": "6954e3cc-55aa-4306-8117-635670b2564c",
   "metadata": {},
   "outputs": [],
   "source": [
    "ds = esa_regrid(1980)"
   ]
  },
  {
   "cell_type": "code",
   "execution_count": null,
   "id": "6217631d-19fa-43b3-9b8d-941338492dd5",
   "metadata": {},
   "outputs": [],
   "source": []
  }
 ],
 "metadata": {
  "kernelspec": {
   "display_name": "Python [conda env:.conda-mland_xr]",
   "language": "python",
   "name": "conda-env-.conda-mland_xr-py"
  },
  "language_info": {
   "codemirror_mode": {
    "name": "ipython",
    "version": 3
   },
   "file_extension": ".py",
   "mimetype": "text/x-python",
   "name": "python",
   "nbconvert_exporter": "python",
   "pygments_lexer": "ipython3",
   "version": "3.9.7"
  }
 },
 "nbformat": 4,
 "nbformat_minor": 5
}
