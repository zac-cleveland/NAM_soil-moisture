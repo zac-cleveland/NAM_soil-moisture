{
 "cells": [
  {
   "cell_type": "code",
   "execution_count": 30,
   "id": "6740768e-e061-425a-9ea0-8b1e078a6486",
   "metadata": {},
   "outputs": [],
   "source": [
    "import sys\n",
    "\n",
    "import numpy as np\n",
    "import netCDF4 as nc\n",
    "import numpy.matlib\n",
    "import datetime\n",
    "import xarray as xr\n",
    "from scipy import interpolate\n",
    "from numpy import ma\n",
    "from scipy import stats\n",
    "import scipy.io as sio\n",
    "import pickle as pickle\n",
    "from sklearn import linear_model\n",
    "import numpy.ma as ma\n",
    "import matplotlib.patches as mpatches\n",
    "from shapely.geometry.polygon import LinearRing\n",
    "\n",
    "import scipy as sp\n",
    "import pandas as pd\n",
    "\n",
    "import time\n",
    "\n",
    "from copy import copy \n",
    "\n",
    "# Plotting\n",
    "import matplotlib as mpl\n",
    "import matplotlib.pyplot as plt\n",
    "from matplotlib import ticker\n",
    "\n",
    "from matplotlib.ticker import FormatStrFormatter\n",
    "from mpl_toolkits.axes_grid1.axes_divider import HBoxDivider\n",
    "import mpl_toolkits.axes_grid1.axes_size as Size\n",
    "from mpl_toolkits.axes_grid1 import make_axes_locatable\n",
    "\n",
    "# OS interaction\n",
    "import os\n",
    "import sys\n",
    "import cftime\n",
    "\n",
    "import cartopy.crs as ccrs\n",
    "from cartopy.util import add_cyclic_point\n",
    "\n",
    "from IPython.display import display\n",
    "from IPython.display import HTML\n",
    "import IPython.core.display as di # Example: di.display_html('<h3>%s:</h3>' % str, raw=True)\n",
    "\n",
    "import matplotlib.colors as mcolors\n",
    "\n",
    "import glob\n",
    "import dask\n",
    "import dask.bag as db\n",
    "\n",
    "from scipy import interpolate\n",
    "\n",
    "import statsmodels.stats.multitest as multitest\n",
    "\n",
    "from matplotlib.gridspec import GridSpec\n",
    "from cartopy.crs import EqualEarth, PlateCarree"
   ]
  },
  {
   "cell_type": "code",
   "execution_count": 31,
   "id": "1b2eb60b-e74c-440b-85bd-a645dcb01b15",
   "metadata": {},
   "outputs": [],
   "source": [
    "era5_path = '/glade/campaign/collections/rda/data/ds633.0/'\n",
    "out_path = '/glade/u/home/zcleveland/ERA5_analysis/ERA5_dsw/'"
   ]
  },
  {
   "cell_type": "code",
   "execution_count": null,
   "id": "2962a24d-b094-499f-9f49-bb6deedfd90c",
   "metadata": {},
   "outputs": [],
   "source": []
  }
 ],
 "metadata": {
  "kernelspec": {
   "display_name": "Python [conda env:.conda-mland_xr]",
   "language": "python",
   "name": "conda-env-.conda-mland_xr-py"
  },
  "language_info": {
   "codemirror_mode": {
    "name": "ipython",
    "version": 3
   },
   "file_extension": ".py",
   "mimetype": "text/x-python",
   "name": "python",
   "nbconvert_exporter": "python",
   "pygments_lexer": "ipython3",
   "version": "3.9.7"
  }
 },
 "nbformat": 4,
 "nbformat_minor": 5
}
