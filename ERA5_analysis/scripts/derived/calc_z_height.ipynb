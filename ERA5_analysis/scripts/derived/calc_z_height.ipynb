{
 "cells": [
  {
   "cell_type": "markdown",
   "id": "e1a8e5fd-2840-4f8e-8abd-185e99c35821",
   "metadata": {},
   "source": [
    "This script calculates geopotential thickness and saves it as a netcdf file"
   ]
  },
  {
   "cell_type": "code",
   "execution_count": 5,
   "id": "8d9adda8-3d24-43c1-8b36-1e9fd2f93897",
   "metadata": {},
   "outputs": [],
   "source": [
    "# import functions\n",
    "# OS interaction and time\n",
    "import os\n",
    "import sys\n",
    "import cftime\n",
    "import datetime\n",
    "import time\n",
    "import glob\n",
    "import dask\n",
    "import dask.bag as db\n",
    "import calendar\n",
    "\n",
    "# math and data\n",
    "import numpy as np\n",
    "import netCDF4 as nc\n",
    "import xarray as xr\n",
    "import scipy as sp\n",
    "\n",
    "from scipy.signal import detrend\n",
    "import pandas as pd\n",
    "import pickle as pickle\n",
    "from sklearn import linear_model\n",
    "import matplotlib.patches as mpatches\n",
    "from shapely.geometry.polygon import LinearRing\n",
    "import statsmodels.stats.multitest as multitest\n",
    "\n",
    "# plotting\n",
    "import matplotlib as mpl\n",
    "import matplotlib.pyplot as plt\n",
    "from matplotlib import ticker\n",
    "import matplotlib.colors as mcolors\n",
    "from matplotlib.gridspec import GridSpec\n",
    "\n",
    "from matplotlib.ticker import FormatStrFormatter\n",
    "from mpl_toolkits.axes_grid1.axes_divider import HBoxDivider\n",
    "import mpl_toolkits.axes_grid1.axes_size as Size\n",
    "from mpl_toolkits.axes_grid1 import make_axes_locatable\n",
    "\n",
    "import cartopy.crs as ccrs\n",
    "import cartopy.feature as cfeature\n",
    "from cartopy.util import add_cyclic_point\n",
    "\n",
    "# random\n",
    "from IPython.display import display\n",
    "from IPython.display import HTML\n",
    "import IPython.core.display as di  # Example: di.display_html('<h3>%s:</h3>' % str, raw=True)"
   ]
  },
  {
   "cell_type": "code",
   "execution_count": 6,
   "id": "a9829d2a-2e1e-4396-8c43-a5b0e45a8d3a",
   "metadata": {},
   "outputs": [],
   "source": [
    "# specify directories\n",
    "my_era5_path = '/glade/u/home/zcleveland/scratch/ERA5/'  # path to subset data\n",
    "misc_data_path = '/glade/u/home/zcleveland/scratch/misc_data/'  # path to subset CP data\n",
    "corr_out_path = '/glade/u/home/zcleveland/scratch/ERA5/correlations/'  # path to correlation calculation folder\n",
    "der_script_path = '/glade/u/home/zcleveland/NAM_soil-moisture/ERA5_analysis/scripts/derived/'  # path to derived scripts"
   ]
  },
  {
   "cell_type": "code",
   "execution_count": null,
   "id": "7147567f-be7c-4222-8b74-3efb724b8f08",
   "metadata": {},
   "outputs": [],
   "source": [
    "# define a function to calculate geopotential height in m\n",
    "def calc_z_height(year, month, **kwargs):\n",
    "\n",
    "    out_fp = f'{my_era5_path}dsw/{year}/pl/Z_Height_{year}{month}_dsw.nc'\n",
    "\n",
    "    # open geopotential dataset\n",
    "    z_files = glob.glob(f'{my_era5_path}dsw/{year}/pl/z_{year}{month}_dsw.nc')\n",
    "    ds = xr.open_mfdataset(z_files)\n",
    "\n",
    "    da = ds['Z']\n",
    "\n",
    "    z_height = (da / 9.80665).rename('Z_Height')\n",
    "\n",
    "    z_height.to_netcdf(out_fp)"
   ]
  },
  {
   "cell_type": "code",
   "execution_count": null,
   "id": "0e306f41-8d64-4830-8307-325145c08c5b",
   "metadata": {},
   "outputs": [],
   "source": [
    "# define the main function to calculate the geopotential thickness between two layers\n",
    "def calc_z_height_diff(year, lower_level, upper_level, **kwargs):\n",
    "\n",
    "    out_fp = f'{my_era5_path}dsw/{year}/pl/Z_Height_{lower_level}-{upper_level}_{year}01_{year}12_dsw.nc'\n",
    "\n",
    "    # open geopotential dataset\n",
    "    z_files = glob.glob(f'{my_era5_path}dsw/{year}/pl/Z_Height*.nc')\n",
    "    ds = xr.open_mfdataset(z_files)\n",
    "\n",
    "    da = ds['Z_Height']\n",
    "\n",
    "    dz = (da.sel(level=upper_level) - da.sel(level=lower_level)).rename(f'Z_Height_{lower_level}-{upper_level}')\n",
    "\n",
    "    dz.to_netcdf(out_fp)"
   ]
  },
  {
   "cell_type": "code",
   "execution_count": 1,
   "id": "0ee357f5-55c4-4a58-b5cb-8ae2318926cc",
   "metadata": {},
   "outputs": [
    {
     "name": "stdout",
     "output_type": "stream",
     "text": [
      "01\n",
      "02\n",
      "03\n",
      "04\n",
      "05\n",
      "06\n",
      "07\n",
      "08\n",
      "09\n",
      "10\n",
      "11\n",
      "12\n"
     ]
    }
   ],
   "source": [
    "for year in range(1980,2020):\n",
    "    str_year = str(year)\n",
    "    for month in range(1,13):\n",
    "        if month<10:\n",
    "            str_month = f'0{month}'\n",
    "        else:\n",
    "            str_month = str(month)\n",
    "        calc_z_height(str_year, str_month)"
   ]
  },
  {
   "cell_type": "code",
   "execution_count": null,
   "id": "14f24ec1-3d75-48ea-9415-04f5874af2ae",
   "metadata": {},
   "outputs": [],
   "source": [
    "upper_level = 500\n",
    "lower_level = 1000\n",
    "for year in range(1980,2020):\n",
    "    calc_z_height_diff(year, lower_level, upper_level)"
   ]
  }
 ],
 "metadata": {
  "kernelspec": {
   "display_name": "Python [conda env:.conda-mland_xr]",
   "language": "python",
   "name": "conda-env-.conda-mland_xr-py"
  },
  "language_info": {
   "codemirror_mode": {
    "name": "ipython",
    "version": 3
   },
   "file_extension": ".py",
   "mimetype": "text/x-python",
   "name": "python",
   "nbconvert_exporter": "python",
   "pygments_lexer": "ipython3",
   "version": "3.9.7"
  }
 },
 "nbformat": 4,
 "nbformat_minor": 5
}
