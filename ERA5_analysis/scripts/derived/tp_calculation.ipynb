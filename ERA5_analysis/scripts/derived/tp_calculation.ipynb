{
 "cells": [
  {
   "cell_type": "code",
   "execution_count": 1,
   "id": "ad466e8b-a63f-4846-b8df-8e871de5559b",
   "metadata": {},
   "outputs": [],
   "source": [
    "import sys\n",
    "\n",
    "import numpy as np\n",
    "import netCDF4 as nc\n",
    "import numpy.matlib\n",
    "import datetime\n",
    "import xarray as xr\n",
    "from scipy import interpolate\n",
    "from numpy import ma\n",
    "from scipy import stats\n",
    "import scipy.io as sio\n",
    "import pickle as pickle\n",
    "from sklearn import linear_model\n",
    "import numpy.ma as ma\n",
    "import matplotlib.patches as mpatches\n",
    "from shapely.geometry.polygon import LinearRing\n",
    "\n",
    "import scipy as sp\n",
    "import pandas as pd\n",
    "\n",
    "import time\n",
    "\n",
    "from copy import copy \n",
    "\n",
    "# Plotting\n",
    "import matplotlib as mpl\n",
    "import matplotlib.pyplot as plt\n",
    "from matplotlib import ticker\n",
    "\n",
    "from matplotlib.ticker import FormatStrFormatter\n",
    "from mpl_toolkits.axes_grid1.axes_divider import HBoxDivider\n",
    "import mpl_toolkits.axes_grid1.axes_size as Size\n",
    "from mpl_toolkits.axes_grid1 import make_axes_locatable\n",
    "\n",
    "# OS interaction\n",
    "import os\n",
    "import sys\n",
    "import cftime\n",
    "\n",
    "import cartopy.crs as ccrs\n",
    "from cartopy.util import add_cyclic_point\n",
    "\n",
    "from IPython.display import display\n",
    "from IPython.display import HTML\n",
    "import IPython.core.display as di # Example: di.display_html('<h3>%s:</h3>' % str, raw=True)\n",
    "\n",
    "import matplotlib.colors as mcolors\n",
    "\n",
    "import glob\n",
    "import dask\n",
    "import dask.bag as db\n",
    "\n",
    "from scipy import interpolate\n",
    "\n",
    "import statsmodels.stats.multitest as multitest\n",
    "\n",
    "from matplotlib.gridspec import GridSpec\n",
    "from cartopy.crs import EqualEarth, PlateCarree"
   ]
  },
  {
   "cell_type": "code",
   "execution_count": 2,
   "id": "c443d248-b6d6-4dd8-845e-7557492f5981",
   "metadata": {},
   "outputs": [],
   "source": [
    "era5_path = '/glade/campaign/collections/rda/data/ds633.0/'\n",
    "out_path = '/glade/u/home/zcleveland/scratch/ERA5/dsw/'"
   ]
  },
  {
   "cell_type": "code",
   "execution_count": 3,
   "id": "b1c90df7-2ec6-4bc7-b676-19e4cee8b714",
   "metadata": {},
   "outputs": [],
   "source": [
    "var_list = ['lsp', 'cp']"
   ]
  },
  {
   "cell_type": "code",
   "execution_count": 4,
   "id": "d5689189-cb7d-49e4-8c84-edc8beb73561",
   "metadata": {},
   "outputs": [],
   "source": [
    "for year in range(1980,2020):\n",
    "    lsp = xr.open_dataset(f'{out_path}lsp_{year}01_{year}12_dsw.nc')\n",
    "    cp = xr.open_dataset(f'{out_path}cp_{year}01_{year}12_dsw.nc')\n",
    "\n",
    "    temp = lsp['LSP']+cp['CP']\n",
    "    tp = xr.Dataset({'TP': temp})\n",
    "    tp.to_netcdf(f'{out_path}tp_{year}01_{year}_12_dsw.nc')"
   ]
  },
  {
   "cell_type": "code",
   "execution_count": null,
   "id": "67ddcec2-b0d1-46a8-81ee-a63927c21d94",
   "metadata": {},
   "outputs": [],
   "source": []
  }
 ],
 "metadata": {
  "kernelspec": {
   "display_name": "Python [conda env:.conda-mland_xr]",
   "language": "python",
   "name": "conda-env-.conda-mland_xr-py"
  },
  "language_info": {
   "codemirror_mode": {
    "name": "ipython",
    "version": 3
   },
   "file_extension": ".py",
   "mimetype": "text/x-python",
   "name": "python",
   "nbconvert_exporter": "python",
   "pygments_lexer": "ipython3",
   "version": "3.9.7"
  }
 },
 "nbformat": 4,
 "nbformat_minor": 5
}
