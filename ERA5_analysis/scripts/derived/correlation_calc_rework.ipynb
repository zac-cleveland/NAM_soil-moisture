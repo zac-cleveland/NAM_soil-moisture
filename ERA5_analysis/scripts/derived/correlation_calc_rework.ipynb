{
 "cells": [
  {
   "cell_type": "markdown",
   "id": "5798e527-e727-4567-8ecf-06a6952c44c1",
   "metadata": {},
   "source": [
    "This script calculates correlations between various parameters and saves them to their own netcdf file"
   ]
  },
  {
   "cell_type": "code",
   "execution_count": 9,
   "id": "b0e91cac-5dc0-42b4-8cbd-3c8f6d034186",
   "metadata": {},
   "outputs": [],
   "source": [
    "# import functions\n",
    "# OS interaction and time\n",
    "import os\n",
    "import sys\n",
    "import cftime\n",
    "import datetime\n",
    "import time\n",
    "import glob\n",
    "import dask\n",
    "import dask.bag as db\n",
    "import calendar\n",
    "\n",
    "# math and data\n",
    "import numpy as np\n",
    "import netCDF4 as nc\n",
    "import xarray as xr\n",
    "import scipy as sp\n",
    "import pandas as pd\n",
    "import pickle as pickle\n",
    "from sklearn import linear_model\n",
    "import matplotlib.patches as mpatches\n",
    "from shapely.geometry.polygon import LinearRing\n",
    "import statsmodels.stats.multitest as multitest\n",
    "\n",
    "# plotting\n",
    "import matplotlib as mpl\n",
    "import matplotlib.pyplot as plt\n",
    "from matplotlib import ticker\n",
    "import matplotlib.colors as mcolors\n",
    "from matplotlib.gridspec import GridSpec\n",
    "\n",
    "from matplotlib.ticker import FormatStrFormatter\n",
    "from mpl_toolkits.axes_grid1.axes_divider import HBoxDivider\n",
    "import mpl_toolkits.axes_grid1.axes_size as Size\n",
    "from mpl_toolkits.axes_grid1 import make_axes_locatable\n",
    "\n",
    "import cartopy.crs as ccrs\n",
    "import cartopy.feature as cfeature\n",
    "from cartopy.util import add_cyclic_point\n",
    "\n",
    "# random\n",
    "from IPython.display import display\n",
    "from IPython.display import HTML\n",
    "import IPython.core.display as di # Example: di.display_html('<h3>%s:</h3>' % str, raw=True)"
   ]
  },
  {
   "cell_type": "code",
   "execution_count": 10,
   "id": "f1e2374b-e37c-4847-a068-424e6a656799",
   "metadata": {},
   "outputs": [],
   "source": [
    "# specify directories\n",
    "my_era5_path = '/glade/u/home/zcleveland/scratch/ERA5/'  # path to subset data\n",
    "cp_in_path = '/glade/u/home/zcleveland/scratch/ERA5/cp/'  # path to subset CP data\n",
    "corr_out_path = '/glade/u/home/zcleveland/scratch/ERA5/correlations/'  # path to correlation calculation folder\n",
    "der_script_path = '/glade/u/home/zcleveland/NAM_soil-moisture/ERA5_analysis/scripts/derived/'  # path to derived scripts"
   ]
  },
  {
   "cell_type": "code",
   "execution_count": 11,
   "id": "d9e9b7b5-3fc5-43f3-bf8f-5754e84a9f0a",
   "metadata": {},
   "outputs": [],
   "source": [
    "# define list of variables\n",
    "\n",
    "# surface instantaneous variables\n",
    "sfc_instan_list = [\n",
    "    'sd',  # snow depth  (m of water equivalent)\n",
    "    'msl',  # mean sea level pressure (Pa)\n",
    "    'tcc',  # total cloud cover (0-1)\n",
    "    'stl1',  # soil temp layer 1 (K)\n",
    "    'stl2',  # soil temp layer 2 (K)\n",
    "    'stl3',  # soil temp layer 3 (K)\n",
    "    'stl4',  # soil temp layer 4 (K)\n",
    "    'swvl1',  # soil volume water content layer 1 (m^3 m^-3)\n",
    "    'swvl2',  # soil volume water content layer 2 (m^3 m^-3)\n",
    "    'swvl3',  # soil volume water content layer 3 (m^3 m^-3)\n",
    "    'swvl4',  # soil volume water content layer 4 (m^3 m^-3)\n",
    "    '2t',  # 2 meter temp (K)\n",
    "    '2d',  # 2 meter dew point (K)\n",
    "    'ishf',  # instant surface heat flux (W m^-2)\n",
    "    'ie',  # instant moisture flux (kg m^-2 s^-1)\n",
    "    'cape',  # convective available potential energy (J kg^-1)\n",
    "    'tcw',  # total column water (kg m^-2) -- sum total of solid, liquid, and vapor in a column\n",
    "    'sstk',  # sea surface temperature (K)\n",
    "]\n",
    "\n",
    "# surface accumulation variables\n",
    "sfc_accumu_list = [\n",
    "    'lsp',  # large scale precipitation (m of water)\n",
    "    'cp',  # convective precipitation (m of water)\n",
    "    'tp',  # total precipitation (m of water) -- DERIVED\n",
    "    'sshf',  # surface sensible heat flux (J m^-2)\n",
    "    'slhf',  # surface latent heat flux (J m^-2)\n",
    "    'ssr',  # surface net solar radiation (J m^-2)\n",
    "    'str',  # surface net thermal radiation (J m^-2)\n",
    "    'sro',  # surface runoff (m)\n",
    "    'sf',  # total snowfall (m of water equivalent)\n",
    "    'ssrd',  # surface solar radiation downwards (J m^-2)\n",
    "    'strd',  # surface thermal radiation downwards (J m^-2)\n",
    "    'ttr',  # top net thermal radiation (OLR, J m^-2) -- divide by time (s) for W m^-2\n",
    "]\n",
    "\n",
    "# pressure level variables\n",
    "pl_var_list = [\n",
    "    # 'pv',  # potential vorticity (K m^2 kg^-1 s^-1)\n",
    "    # 'crwc',  # specific rain water content (kg kg^-1)\n",
    "    # 'cswc',  # specific snow water content (kg kg^-1)\n",
    "    'z',  # geopotential (m^2 s^2)\n",
    "    't',  # temperature (K)\n",
    "    'u',  # u component of wind(m s^-1)\n",
    "    'v',  # v component of wind (m s^-1)\n",
    "    'q',  # specific humidity (kg kg^-1)\n",
    "    'w',  # vertical velo|city (Pa s^-1)\n",
    "    # 'vo',  # vorticity - relative (s^-1)\n",
    "    # 'd',  # divergence (s^-1)\n",
    "    'r',  # relative humidity (%)\n",
    "    # 'clwc',  # specific cloud liquid water content\n",
    "    # 'ciwc',  # specific cloud ice water content\n",
    "    # 'cc',  # fraction of cloud cover (0-1)\n",
    "]\n",
    "\n",
    "# NAM variables\n",
    "NAM_var_list = [\n",
    "    'onset',\n",
    "    'retreat',\n",
    "    'length'\n",
    "]"
   ]
  },
  {
   "cell_type": "code",
   "execution_count": 4,
   "id": "7413b7c0-c9e4-41e9-930e-ff5cc4599204",
   "metadata": {},
   "outputs": [],
   "source": [
    "# define a function to calculate the correlation between\n",
    "# any two variables in certain months\n",
    "def calc_correlation(var1='swvl1', var1_level=700, var1_month_list=[3, 4, 5], var1_region='cp',\n",
    "                     var2='tp', var2_level=700, var2_month_list=[6, 7, 8], var2_region='dsw'):\n",
    "\n",
    "    # months list\n",
    "    var1_months = month_num_to_name(var=var1, months=var1_month_list)\n",
    "    var2_months = month_num_to_name(var=var2, months=var2_month_list)\n",
    "\n",
    "    fn_list = [str(var1), str(var1_months), str(var1_region), str(var2), str(var2_months), str(var2_region)]\n",
    "    fn_core = '_'.join([i for i in fn_list if i != ''])\n",
    "\n",
    "    # filename and path\n",
    "    out_fn = f'corr_{fn_core}.nc'\n",
    "    out_fp = os.path.join(corr_out_path, 'domain', out_fn)\n",
    "\n",
    "    # check existence of file already\n",
    "    if os.path.exists(out_fp):\n",
    "        print(f'File already exists for: {out_fn}')\n",
    "        print('\\nSkipping . . .')\n",
    "        return\n",
    "\n",
    "    # open datasets\n",
    "\n",
    "    # var 1\n",
    "    if ((var1 in sfc_instan_list) or (var1 in sfc_accumu_list)):\n",
    "        var1_data = open_sfc_data(var=var1, region=var1_region, months=var1_month_list)\n",
    "    elif var1 in pl_var_list:\n",
    "        var1_data = open_pl_data(var=var1, p_level=var1_level, months=var1_month_list)\n",
    "    elif var1 in NAM_var_list:\n",
    "        var1_data = open_NAM_data(var=var1)\n",
    "    else:\n",
    "        print('Something went wront . . .')\n",
    "        return\n",
    "\n",
    "    # var 2\n",
    "    if ((var2 in sfc_instan_list) or (var2 in sfc_accumu_list)):\n",
    "        var2_data = open_sfc_data(var=var2, region=var2_region, months=var2_month_list)\n",
    "    elif var2 in pl_var_list:\n",
    "        var2_data = open_pl_data(var=var2, p_level=var2_level, months=var2_month_list)\n",
    "    elif var2 in NAM_var_list:\n",
    "        var2_data = open_NAM_data(var=var2)\n",
    "    else:\n",
    "        print('Something went wront . . .')\n",
    "        return\n",
    "\n",
    "    if ((var1_data is None) or (var2_data is None)):\n",
    "        print(f'No files were found a var: \\n{var1_data}\\n{var2_data}')\n",
    "        return\n",
    "\n",
    "    # calculate correlation\n",
    "    var_corr = xr.corr(var1_data, var2_data, dim='year')\n",
    "    var_corr = var_corr.rename('pearson_r')\n",
    "    # return var_corr, out_fn\n",
    "\n",
    "    # save to netCDF file\n",
    "    var_corr.to_netcdf(out_fp)"
   ]
  },
  {
   "cell_type": "code",
   "execution_count": 12,
   "id": "ecb70e58-0374-4406-9a84-92282f19d771",
   "metadata": {},
   "outputs": [],
   "source": [
    "# define a function to turn a list of integers into months\n",
    "def month_num_to_name(var, months):\n",
    "\n",
    "    # make string for month letters from var_range (e.g. [6,7,8] -> 'JJA')\n",
    "    if var in NAM_var_list:\n",
    "        var_months = ''\n",
    "    elif len(months) == 1:\n",
    "        var_months = calendar.month_name[months[0]]  # use full month name if only 1 month\n",
    "    elif ((len(months) > 1) & (len(months) <= 12)):\n",
    "        var_months = ''.join([calendar.month_name[m][0] for m in months])\n",
    "    return var_months"
   ]
  },
  {
   "cell_type": "code",
   "execution_count": 13,
   "id": "e148c87f-62c6-40d0-88c3-70c5d9aaded1",
   "metadata": {},
   "outputs": [],
   "source": [
    "# define function to open pressure level datasets\n",
    "def open_pl_data(var='z', p_level=700, months=None):\n",
    "\n",
    "    # grab files for pl var\n",
    "    files = glob.glob(f'{my_era5_path}dsw/*/pl/{var.lower()}_*_dsw.nc')\n",
    "    files.sort()\n",
    "\n",
    "    if not files:\n",
    "        return None\n",
    "\n",
    "    # open dataset\n",
    "    ds = xr.open_mfdataset(files, data_vars='minimal', coords='minimal', parallel=True, chunks={'level': 1})\n",
    "\n",
    "    # subset the data bas\n",
    "    da = ds[var.upper()].sel(level=p_level, drop=True)\n",
    "    var_data = da.sel(time=da['time.month'].isin(months)).groupby('time.year').mean(dim='time')\n",
    "    return var_data"
   ]
  },
  {
   "cell_type": "code",
   "execution_count": 14,
   "id": "43c02b51-ae28-4b28-836e-1cef6d8d27ac",
   "metadata": {},
   "outputs": [],
   "source": [
    "# define a function to open surface data\n",
    "def open_sfc_data(var='swvl1', region='dsw', months=None):\n",
    "\n",
    "    # grab files for sfc var\n",
    "    if region.lower() == 'dsw':\n",
    "        files = glob.glob(f'{my_era5_path}dsw/*/{var.lower()}_*_dsw.nc')\n",
    "    elif region.lower() == 'cp':\n",
    "        files = glob.glob(f'{my_era5_path}cp/{var.lower()}_198001_201912_cp.nc')\n",
    "    elif region.lower() == 'global':\n",
    "        files = glob.glob(f'{my_era5_path}global/*/{var.lower()}_*_dsw.nc')\n",
    "    files.sort()\n",
    "\n",
    "    if not files:\n",
    "        return None\n",
    "\n",
    "    # open dataset\n",
    "    ds = xr.open_mfdataset(files)\n",
    "\n",
    "    # pull out actual variable name in the dataset since they can be different names/capitalized\n",
    "    var_name = [v for v in ds.data_vars.keys() if f'{var.upper()}' in v][0]\n",
    "    da = ds[var_name]\n",
    "    # get data from var\n",
    "    if var.lower() in sfc_instan_list:\n",
    "        var_data = da.sel(time=da['time.month'].isin(months)).groupby('time.year').mean(dim='time')\n",
    "    elif var.lower() in sfc_accumu_list:\n",
    "        var_data = da.sel(time=da['time.month'].isin(months)).groupby('time.year').sum(dim='time')\n",
    "    return var_data"
   ]
  },
  {
   "cell_type": "code",
   "execution_count": 15,
   "id": "d91ef4ff-c603-442c-9e2c-f48e94beab06",
   "metadata": {},
   "outputs": [],
   "source": [
    "# define a function to open onset, retreat, and length of NAM data\n",
    "def open_NAM_data(var='onset'):\n",
    "\n",
    "    # grab files for NAM data\n",
    "    files = glob.glob(f'{my_era5_path}dsw/NAM_{var.lower()}.nc')\n",
    "    files.sort()\n",
    "\n",
    "    if not files:\n",
    "        return None\n",
    "\n",
    "    # open dataset\n",
    "    ds = xr.open_mfdataset(files)\n",
    "    ds['year'] = ds['year'].dt.year  # convert to only year.  e.g. 2012-01-01 -> 2012\n",
    "\n",
    "    # pull out actual variable name in the dataset since they can be different\n",
    "    if ((var.lower() == 'onset') or (var.lower() == 'retreat')):\n",
    "        da = ds['date'].dt.dayofyear\n",
    "    elif var.lower() == 'length':\n",
    "        da = ds['dayofyear']\n",
    "    return da"
   ]
  },
  {
   "cell_type": "code",
   "execution_count": null,
   "id": "8133e054-c674-4107-b409-053edd8cddc3",
   "metadata": {},
   "outputs": [],
   "source": [
    "# calculate correlations for onset, length, and summer precipitation\n",
    "var_list1 = sfc_accumu_list + sfc_instan_list + pl_var_list\n",
    "var_list2 = NAM_var_list + ['tp']\n",
    "region_list = ['dsw', 'cp']\n",
    "for var1 in var_list1:\n",
    "    for var2 in var_list2:\n",
    "        for region in region_list:\n",
    "            # with open(f'{der_script_path}corr.txt', 'a') as file:\n",
    "            #     file.write(f'{var1} : {var2} : {region}\\n')\n",
    "            calc_correlation(var1=var1, var1_level=700, var1_month_list=[3, 4, 5], var1_region=region,\n",
    "                             var2=var2, var2_level=700, var2_month_list=[6, 7, 8], var2_region='dsw')"
   ]
  },
  {
   "cell_type": "code",
   "execution_count": 16,
   "id": "6fc66271-916c-4fc6-81a2-48486a1a859f",
   "metadata": {},
   "outputs": [],
   "source": [
    "# define a function to calculate the correlation for global variables\n",
    "def calc_correlation_global(var1='ttr', var1_level=700, var1_month_list=[3, 4, 5], var1_region='global',\n",
    "                            var2='tp', var2_level=700, var2_month_list=[6, 7, 8], var2_region='dsw'):\n",
    "\n",
    "    # months list\n",
    "    var1_months = month_num_to_name(var=var1, months=var1_month_list)\n",
    "    var2_months = month_num_to_name(var=var2, months=var2_month_list)\n",
    "\n",
    "    fn_list = [str(var1), str(var1_months), 'global', str(var2), str(var2_months), 'MeNmAz']\n",
    "    fn_core = '_'.join([i for i in fn_list if i != ''])\n",
    "\n",
    "    # filename and path\n",
    "    out_fn = f'corr_{fn_core}.nc'\n",
    "    out_fp = os.path.join(corr_out_path, 'global', out_fn)\n",
    "\n",
    "    # check existence of file already\n",
    "    if os.path.exists(out_fp):\n",
    "        print(f'File already exists for: {out_fn}')\n",
    "        print('\\nSkipping . . .')\n",
    "        return\n",
    "\n",
    "    # open datasets\n",
    "\n",
    "    # var 1\n",
    "    if ((var1 in sfc_instan_list) or (var1 in sfc_accumu_list)):\n",
    "        var1_data = open_sfc_data(var=var1, region=var1_region, months=var1_month_list)\n",
    "    elif var1 in pl_var_list:\n",
    "        var1_data = open_pl_data(var=var1, p_level=var1_level, months=var1_month_list)\n",
    "    elif var1 in NAM_var_list:\n",
    "        var1_data = open_NAM_data(var=var1)\n",
    "    else:\n",
    "        print('Something went wront . . .')\n",
    "        return\n",
    "\n",
    "    # var 2\n",
    "    if ((var2 in sfc_instan_list) or (var2 in sfc_accumu_list)):\n",
    "        var2_data = open_sfc_data(var=var2, region=var2_region, months=var2_month_list)\n",
    "    elif var2 in pl_var_list:\n",
    "        var2_data = open_pl_data(var=var2, p_level=var2_level, months=var2_month_list)\n",
    "    elif var2 in NAM_var_list:\n",
    "        var2_data = open_NAM_data(var=var2)\n",
    "    else:\n",
    "        print('Something went wront . . .')\n",
    "        return\n",
    "\n",
    "    if ((var1_data is None) or (var2_data is None)):\n",
    "        print(f'No files were found a var: \\n{var1_data}\\n{var2_data}')\n",
    "        return\n",
    "\n",
    "    lats = slice(38,28)\n",
    "    lons = slice(246, 256)\n",
    "\n",
    "    var2_data = var2_data.sel(latitude=lats, longitude=lons).mean(dim=['latitude', 'longitude'])\n",
    "\n",
    "    # calculate correlation\n",
    "    var_corr = xr.corr(var1_data, var2_data, dim='year')\n",
    "    var_corr = var_corr.rename('pearson_r')\n",
    "    # return var_corr, out_fn\n",
    "\n",
    "    # save to netCDF file\n",
    "    var_corr.to_netcdf(out_fp)"
   ]
  },
  {
   "cell_type": "code",
   "execution_count": 18,
   "id": "6ee4dbbc-dea5-4a39-8fef-13b680231b96",
   "metadata": {
    "editable": true,
    "slideshow": {
     "slide_type": ""
    },
    "tags": []
   },
   "outputs": [
    {
     "name": "stdout",
     "output_type": "stream",
     "text": [
      "var1 : ttr [3, 4, 5] -- var2 : onset\n",
      "File already exists for: corr_ttr_MAM_global_onset_MeNmAz.nc\n",
      "\n",
      "Skipping . . .\n",
      "var1 : ttr [6, 7, 8] -- var2 : onset\n",
      "var1 : ttr [4] -- var2 : onset\n",
      "var1 : ttr [5] -- var2 : onset\n",
      "var1 : ttr [6] -- var2 : onset\n",
      "var1 : ttr [3, 4, 5] -- var2 : retreat\n",
      "File already exists for: corr_ttr_MAM_global_retreat_MeNmAz.nc\n",
      "\n",
      "Skipping . . .\n",
      "var1 : ttr [6, 7, 8] -- var2 : retreat\n",
      "var1 : ttr [4] -- var2 : retreat\n",
      "var1 : ttr [5] -- var2 : retreat\n",
      "var1 : ttr [6] -- var2 : retreat\n",
      "var1 : ttr [3, 4, 5] -- var2 : length\n",
      "File already exists for: corr_ttr_MAM_global_length_MeNmAz.nc\n",
      "\n",
      "Skipping . . .\n",
      "var1 : ttr [6, 7, 8] -- var2 : length\n",
      "var1 : ttr [4] -- var2 : length\n",
      "var1 : ttr [5] -- var2 : length\n",
      "var1 : ttr [6] -- var2 : length\n",
      "var1 : ttr [3, 4, 5] -- var2 : tp\n",
      "File already exists for: corr_ttr_MAM_global_tp_JJA_MeNmAz.nc\n",
      "\n",
      "Skipping . . .\n",
      "var1 : ttr [6, 7, 8] -- var2 : tp\n",
      "var1 : ttr [4] -- var2 : tp\n",
      "var1 : ttr [5] -- var2 : tp\n",
      "var1 : ttr [6] -- var2 : tp\n",
      "var1 : sstk [3, 4, 5] -- var2 : onset\n",
      "File already exists for: corr_sstk_MAM_global_onset_MeNmAz.nc\n",
      "\n",
      "Skipping . . .\n",
      "var1 : sstk [6, 7, 8] -- var2 : onset\n"
     ]
    },
    {
     "name": "stderr",
     "output_type": "stream",
     "text": [
      "/glade/u/home/zcleveland/.conda/envs/mland_xr/lib/python3.9/site-packages/dask/array/numpy_compat.py:40: RuntimeWarning: invalid value encountered in true_divide\n",
      "  x = np.divide(x1, x2, out)\n"
     ]
    },
    {
     "name": "stdout",
     "output_type": "stream",
     "text": [
      "var1 : sstk [4] -- var2 : onset\n"
     ]
    },
    {
     "name": "stderr",
     "output_type": "stream",
     "text": [
      "/glade/u/home/zcleveland/.conda/envs/mland_xr/lib/python3.9/site-packages/dask/array/numpy_compat.py:40: RuntimeWarning: invalid value encountered in true_divide\n",
      "  x = np.divide(x1, x2, out)\n"
     ]
    },
    {
     "name": "stdout",
     "output_type": "stream",
     "text": [
      "var1 : sstk [5] -- var2 : onset\n"
     ]
    },
    {
     "name": "stderr",
     "output_type": "stream",
     "text": [
      "/glade/u/home/zcleveland/.conda/envs/mland_xr/lib/python3.9/site-packages/dask/array/numpy_compat.py:40: RuntimeWarning: invalid value encountered in true_divide\n",
      "  x = np.divide(x1, x2, out)\n"
     ]
    },
    {
     "name": "stdout",
     "output_type": "stream",
     "text": [
      "var1 : sstk [6] -- var2 : onset\n"
     ]
    },
    {
     "name": "stderr",
     "output_type": "stream",
     "text": [
      "/glade/u/home/zcleveland/.conda/envs/mland_xr/lib/python3.9/site-packages/dask/array/numpy_compat.py:40: RuntimeWarning: invalid value encountered in true_divide\n",
      "  x = np.divide(x1, x2, out)\n"
     ]
    },
    {
     "name": "stdout",
     "output_type": "stream",
     "text": [
      "var1 : sstk [3, 4, 5] -- var2 : retreat\n",
      "File already exists for: corr_sstk_MAM_global_retreat_MeNmAz.nc\n",
      "\n",
      "Skipping . . .\n",
      "var1 : sstk [6, 7, 8] -- var2 : retreat\n"
     ]
    },
    {
     "name": "stderr",
     "output_type": "stream",
     "text": [
      "/glade/u/home/zcleveland/.conda/envs/mland_xr/lib/python3.9/site-packages/dask/array/numpy_compat.py:40: RuntimeWarning: invalid value encountered in true_divide\n",
      "  x = np.divide(x1, x2, out)\n"
     ]
    },
    {
     "name": "stdout",
     "output_type": "stream",
     "text": [
      "var1 : sstk [4] -- var2 : retreat\n"
     ]
    },
    {
     "name": "stderr",
     "output_type": "stream",
     "text": [
      "/glade/u/home/zcleveland/.conda/envs/mland_xr/lib/python3.9/site-packages/dask/array/numpy_compat.py:40: RuntimeWarning: invalid value encountered in true_divide\n",
      "  x = np.divide(x1, x2, out)\n"
     ]
    },
    {
     "name": "stdout",
     "output_type": "stream",
     "text": [
      "var1 : sstk [5] -- var2 : retreat\n"
     ]
    },
    {
     "name": "stderr",
     "output_type": "stream",
     "text": [
      "/glade/u/home/zcleveland/.conda/envs/mland_xr/lib/python3.9/site-packages/dask/array/numpy_compat.py:40: RuntimeWarning: invalid value encountered in true_divide\n",
      "  x = np.divide(x1, x2, out)\n"
     ]
    },
    {
     "name": "stdout",
     "output_type": "stream",
     "text": [
      "var1 : sstk [6] -- var2 : retreat\n"
     ]
    },
    {
     "name": "stderr",
     "output_type": "stream",
     "text": [
      "/glade/u/home/zcleveland/.conda/envs/mland_xr/lib/python3.9/site-packages/dask/array/numpy_compat.py:40: RuntimeWarning: invalid value encountered in true_divide\n",
      "  x = np.divide(x1, x2, out)\n"
     ]
    },
    {
     "name": "stdout",
     "output_type": "stream",
     "text": [
      "var1 : sstk [3, 4, 5] -- var2 : length\n",
      "File already exists for: corr_sstk_MAM_global_length_MeNmAz.nc\n",
      "\n",
      "Skipping . . .\n",
      "var1 : sstk [6, 7, 8] -- var2 : length\n"
     ]
    },
    {
     "name": "stderr",
     "output_type": "stream",
     "text": [
      "/glade/u/home/zcleveland/.conda/envs/mland_xr/lib/python3.9/site-packages/dask/array/numpy_compat.py:40: RuntimeWarning: invalid value encountered in true_divide\n",
      "  x = np.divide(x1, x2, out)\n"
     ]
    },
    {
     "name": "stdout",
     "output_type": "stream",
     "text": [
      "var1 : sstk [4] -- var2 : length\n"
     ]
    },
    {
     "name": "stderr",
     "output_type": "stream",
     "text": [
      "/glade/u/home/zcleveland/.conda/envs/mland_xr/lib/python3.9/site-packages/dask/array/numpy_compat.py:40: RuntimeWarning: invalid value encountered in true_divide\n",
      "  x = np.divide(x1, x2, out)\n"
     ]
    },
    {
     "name": "stdout",
     "output_type": "stream",
     "text": [
      "var1 : sstk [5] -- var2 : length\n"
     ]
    },
    {
     "name": "stderr",
     "output_type": "stream",
     "text": [
      "/glade/u/home/zcleveland/.conda/envs/mland_xr/lib/python3.9/site-packages/dask/array/numpy_compat.py:40: RuntimeWarning: invalid value encountered in true_divide\n",
      "  x = np.divide(x1, x2, out)\n"
     ]
    },
    {
     "name": "stdout",
     "output_type": "stream",
     "text": [
      "var1 : sstk [6] -- var2 : length\n"
     ]
    },
    {
     "name": "stderr",
     "output_type": "stream",
     "text": [
      "/glade/u/home/zcleveland/.conda/envs/mland_xr/lib/python3.9/site-packages/dask/array/numpy_compat.py:40: RuntimeWarning: invalid value encountered in true_divide\n",
      "  x = np.divide(x1, x2, out)\n"
     ]
    },
    {
     "name": "stdout",
     "output_type": "stream",
     "text": [
      "var1 : sstk [3, 4, 5] -- var2 : tp\n",
      "File already exists for: corr_sstk_MAM_global_tp_JJA_MeNmAz.nc\n",
      "\n",
      "Skipping . . .\n",
      "var1 : sstk [6, 7, 8] -- var2 : tp\n"
     ]
    },
    {
     "name": "stderr",
     "output_type": "stream",
     "text": [
      "/glade/u/home/zcleveland/.conda/envs/mland_xr/lib/python3.9/site-packages/dask/array/numpy_compat.py:40: RuntimeWarning: invalid value encountered in true_divide\n",
      "  x = np.divide(x1, x2, out)\n"
     ]
    },
    {
     "name": "stdout",
     "output_type": "stream",
     "text": [
      "var1 : sstk [4] -- var2 : tp\n"
     ]
    },
    {
     "name": "stderr",
     "output_type": "stream",
     "text": [
      "/glade/u/home/zcleveland/.conda/envs/mland_xr/lib/python3.9/site-packages/dask/array/numpy_compat.py:40: RuntimeWarning: invalid value encountered in true_divide\n",
      "  x = np.divide(x1, x2, out)\n"
     ]
    },
    {
     "name": "stdout",
     "output_type": "stream",
     "text": [
      "var1 : sstk [5] -- var2 : tp\n"
     ]
    },
    {
     "name": "stderr",
     "output_type": "stream",
     "text": [
      "/glade/u/home/zcleveland/.conda/envs/mland_xr/lib/python3.9/site-packages/dask/array/numpy_compat.py:40: RuntimeWarning: invalid value encountered in true_divide\n",
      "  x = np.divide(x1, x2, out)\n"
     ]
    },
    {
     "name": "stdout",
     "output_type": "stream",
     "text": [
      "var1 : sstk [6] -- var2 : tp\n"
     ]
    },
    {
     "name": "stderr",
     "output_type": "stream",
     "text": [
      "/glade/u/home/zcleveland/.conda/envs/mland_xr/lib/python3.9/site-packages/dask/array/numpy_compat.py:40: RuntimeWarning: invalid value encountered in true_divide\n",
      "  x = np.divide(x1, x2, out)\n"
     ]
    }
   ],
   "source": [
    "var_list1 = ['ttr', 'sstk']\n",
    "var_list2 = NAM_var_list + ['tp']\n",
    "var1_months_list = [\n",
    "    [3, 4, 5],\n",
    "    [6, 7, 8],\n",
    "    [4],\n",
    "    [5],\n",
    "    [6]\n",
    "]\n",
    "for var1 in var_list1:\n",
    "    for var2 in var_list2:\n",
    "        for var1_month_list in var1_months_list:\n",
    "            print(f'var1 : {var1} {var1_month_list} -- var2 : {var2}')\n",
    "            calc_correlation_global(var1=var1, var1_level=700, var1_month_list=var1_month_list, var1_region='global',\n",
    "                                    var2=var2, var2_level=700, var2_month_list=[6, 7, 8], var2_region='dsw')"
   ]
  },
  {
   "cell_type": "code",
   "execution_count": null,
   "id": "71fcf109-1c04-4eb5-9a6a-d97628553e22",
   "metadata": {},
   "outputs": [],
   "source": []
  }
 ],
 "metadata": {
  "kernelspec": {
   "display_name": "Python [conda env:.conda-mland_xr]",
   "language": "python",
   "name": "conda-env-.conda-mland_xr-py"
  },
  "language_info": {
   "codemirror_mode": {
    "name": "ipython",
    "version": 3
   },
   "file_extension": ".py",
   "mimetype": "text/x-python",
   "name": "python",
   "nbconvert_exporter": "python",
   "pygments_lexer": "ipython3",
   "version": "3.9.7"
  }
 },
 "nbformat": 4,
 "nbformat_minor": 5
}
