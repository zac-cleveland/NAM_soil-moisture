{
 "cells": [
  {
   "cell_type": "code",
   "execution_count": 1,
   "id": "a5ad7dce-debd-4ba9-957c-1e9b652f23d0",
   "metadata": {},
   "outputs": [],
   "source": [
    "# import functions\n",
    "# OS interaction and time\n",
    "import os\n",
    "import sys\n",
    "import cftime\n",
    "import datetime\n",
    "import time\n",
    "import glob\n",
    "import dask\n",
    "import dask.bag as db\n",
    "import calendar\n",
    "\n",
    "# math and data\n",
    "import numpy as np\n",
    "import netCDF4 as nc\n",
    "import xarray as xr\n",
    "import scipy as sp\n",
    "import pandas as pd\n",
    "import pickle as pickle\n",
    "from sklearn import linear_model\n",
    "import matplotlib.patches as mpatches\n",
    "from shapely.geometry.polygon import LinearRing\n",
    "import statsmodels.stats.multitest as multitest\n",
    "\n",
    "# plotting\n",
    "import matplotlib as mpl\n",
    "import matplotlib.pyplot as plt\n",
    "from matplotlib import ticker\n",
    "import matplotlib.colors as mcolors\n",
    "from matplotlib.gridspec import GridSpec\n",
    "\n",
    "from matplotlib.ticker import FormatStrFormatter\n",
    "from mpl_toolkits.axes_grid1.axes_divider import HBoxDivider\n",
    "import mpl_toolkits.axes_grid1.axes_size as Size\n",
    "from mpl_toolkits.axes_grid1 import make_axes_locatable\n",
    "\n",
    "import cartopy.crs as ccrs\n",
    "import cartopy.feature as cfeature\n",
    "from cartopy.util import add_cyclic_point\n",
    "\n",
    "# random\n",
    "from IPython.display import display\n",
    "from IPython.display import HTML\n",
    "import IPython.core.display as di # Example: di.display_html('<h3>%s:</h3>' % str, raw=True)"
   ]
  },
  {
   "cell_type": "code",
   "execution_count": 2,
   "id": "d9e5ffcd-deab-4918-aedb-953995963ea8",
   "metadata": {},
   "outputs": [],
   "source": [
    "scratch_path = '/glade/u/home/zcleveland/scratch/'\n",
    "plot_out_path = '/glade/u/home/zcleveland/NAM_soil-moisture/ERA5_analysis/plots/time_series'\n",
    "temp_scratch_path = '/glade/u/home/zcleveland/NAM_soil-moisture/ERA5_analysis/temp/'"
   ]
  },
  {
   "cell_type": "code",
   "execution_count": 3,
   "id": "34fd3c2e-734f-4feb-9d24-3bf4f8f865c5",
   "metadata": {},
   "outputs": [],
   "source": [
    "# variable list to choose for plotting\n",
    "var_list = [\n",
    "    'lsp', # large scale precipitation\n",
    "    'cp', # convective precipitation\n",
    "    'sd', # snow depth\n",
    "    'msl', # mean sea level pressure\n",
    "    'tcc', # total cloud cover\n",
    "    'stl1', # soil temp layer 1\n",
    "    'stl2', # soil temp layer 2\n",
    "    'stl3', # soil temp layer 3\n",
    "    'stl4', # soil temp layer 4\n",
    "    'swvl1', # soil volume water content layer 1\n",
    "    'swvl2', # soil volume water content layer 2\n",
    "    'swvl3', # soil volume water content layer 3\n",
    "    'swvl4', # soil volume water content layer 4\n",
    "    '2t', # 2 meter temp\n",
    "    '2d', # 2 meter dew point\n",
    "    'ishf', # instant surface heat flux\n",
    "    'ie', # instant moisture flux\n",
    "]"
   ]
  },
  {
   "cell_type": "code",
   "execution_count": 4,
   "id": "85fc8d9c-02c5-4982-a9e6-45d9d3cb8762",
   "metadata": {},
   "outputs": [],
   "source": [
    "# set time array to loop through\n",
    "years = np.arange(1980,2020)\n",
    "months = np.arange(1,13)"
   ]
  },
  {
   "cell_type": "code",
   "execution_count": null,
   "id": "b007a1e4-15d9-4330-9b10-10078c6c2f9e",
   "metadata": {},
   "outputs": [],
   "source": []
  }
 ],
 "metadata": {
  "kernelspec": {
   "display_name": "Python [conda env:.conda-mland_xr]",
   "language": "python",
   "name": "conda-env-.conda-mland_xr-py"
  },
  "language_info": {
   "codemirror_mode": {
    "name": "ipython",
    "version": 3
   },
   "file_extension": ".py",
   "mimetype": "text/x-python",
   "name": "python",
   "nbconvert_exporter": "python",
   "pygments_lexer": "ipython3",
   "version": "3.9.7"
  }
 },
 "nbformat": 4,
 "nbformat_minor": 5
}
