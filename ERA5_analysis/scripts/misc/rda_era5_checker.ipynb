{
 "cells": [
  {
   "cell_type": "markdown",
   "id": "9ad12df9-6d64-4153-8e3b-c7a0ef66f56c",
   "metadata": {},
   "source": [
    "This script loops through the ERA5 data that I have chosen to subset and checks for certain values within those .nc files.  It's a sanity check to make sure that when I subset the data, I didn't accidently create nan values or other unrealistic values."
   ]
  },
  {
   "cell_type": "code",
   "execution_count": 12,
   "id": "b4b6e5ea-d4c0-4e44-9873-19a23a78c404",
   "metadata": {},
   "outputs": [],
   "source": [
    "# import functions\n",
    "# OS interaction and time\n",
    "import os\n",
    "import sys\n",
    "import glob\n",
    "import dask\n",
    "import dask.bag as db\n",
    "import importlib\n",
    "\n",
    "# math and data\n",
    "import math\n",
    "import numpy as np\n",
    "import xarray as xr\n",
    "import pandas as pd\n",
    "\n",
    "# paths to various directories\n",
    "rda_era5_path = '/glade/campaign/collections/rda/data/ds633.0/'  # base path to ERA5 data on derecho\n",
    "my_era5_path = '/glade/u/home/zcleveland/scratch/ERA5/'  # path to subset data\n",
    "misc_data_path = '/glade/u/home/zcleveland/scratch/misc_data/'  # path to misc data\n",
    "plot_out_path = '/glade/u/home/zcleveland/NAM_soil-moisture/ERA5_analysis/plots/'  # path to generated plots\n",
    "scripts_main_path = '/glade/u/home/zcleveland/NAM_soil-moisture/scripts_main/'  # path to my dicts, lists, and functions\n",
    "\n",
    "# import variable lists and dictionaries\n",
    "if scripts_main_path not in sys.path:\n",
    "    sys.path.insert(0, scripts_main_path)  # path to file containing these lists/dicts\n",
    "if 'get_var_data' in sys.modules:\n",
    "    importlib.reload(sys.modules['get_var_data'])\n",
    "if 'my_functions' in sys.modules:\n",
    "    importlib.reload(sys.modules['my_functions'])\n",
    "if 'my_dictionaries' in sys.modules:\n",
    "    importlib.reload(sys.modules['my_dictionaries'])\n",
    "\n",
    "# import common functions that I've created\n",
    "from get_var_data import get_var_data, get_var_files, open_var_data, subset_var_data, time_to_year_month_avg, time_to_year_month_sum, time_to_year_month\n",
    "from my_functions import month_num_to_name, ensure_var_list\n",
    "\n",
    "# import lists and dictionaries\n",
    "from my_dictionaries import sfc_instan_list, sfc_accumu_list, pl_var_list, derived_var_list, invar_var_list, NAM_var_list, region_avg_list, flux_var_list, misc_var_list, var_dict, var_units, region_avg_dict, region_avg_coords, region_colors_dict"
   ]
  },
  {
   "cell_type": "code",
   "execution_count": 13,
   "id": "1b9023b6-38ef-484e-a480-9a02361c181c",
   "metadata": {},
   "outputs": [],
   "source": [
    "def main(var, **kwargs):\n",
    "    print(f\"\\n{'--'*40}\\nProcessing var: {var_dict[var]}\\n\")\n",
    "\n",
    "    # get the data that I subset previously\n",
    "    my_data = get_var_data(var, level=500)\n",
    "    num_value_my_data = check_for_values(my_data)\n",
    "    value = kwargs.get('value_to_check', 'not_finite')\n",
    "    if value == 'not_finite' or value == 'nan' or value == 'inf':\n",
    "        if num_value_my_data == 0:\n",
    "            print('No NANs or INFs found in my data. Skipping . . . ')\n",
    "            return\n",
    "\n",
    "    if var not in derived_var_list:\n",
    "        print(f'NANs or INFs found in my data. Processing raw data\\nvalue: {value}')\n",
    "    else:\n",
    "        print(f'{var_dict[var]} is a derived var. RDA data will not be processed.')\n",
    "        print(f'my_data: {num_value_my_data}...')\n",
    "        return\n",
    "\n",
    "    # find the base sub directory of the data for var in rda_era5_path\n",
    "    var_base_dir = find_var_base_dir(var, **kwargs)\n",
    "    if not var_base_dir:\n",
    "        print(f'No var_base_dir for: {var}')\n",
    "        return\n",
    "    else:\n",
    "        print(f'var_base_dir: {var_base_dir}')\n",
    "\n",
    "    # loop through years and count values in each dataset to compare to my_data\n",
    "    for year in np.arange(1980,2020):\n",
    "        print(f'{year}: ', end='')\n",
    "        # get list of file paths for each .nc file of var\n",
    "        files = get_rda_files(var, year, var_base_dir)\n",
    "        if not files:\n",
    "            print(f'\\nNo files for {var_dict[var]} in {var_base_dir} for {year}')\n",
    "            return\n",
    "        if not all(os.path.exists(file) for file in files):\n",
    "            print('\\nSome files do not exist. Returning . . .')\n",
    "            return\n",
    "\n",
    "        try:\n",
    "            # open dataset\n",
    "            ds = xr.open_mfdataset(files)\n",
    "            var_name = [v for v in ds.data_vars.keys() if var.upper() in v.upper()][0]  # actual variable name in Dataset\n",
    "            da = ds[var_name]\n",
    "\n",
    "            # subset the data by latitude and longitude coordinates and into daily values\n",
    "            da_sub = subset_data_coords(da, **kwargs)\n",
    "            da_daily = subset_data_daily(var, da_sub, **kwargs)\n",
    "\n",
    "            my_data_year = my_data.sel(time=my_data['time.year'].isin(year))\n",
    "            num_value_my_data = check_for_values(my_data_year)\n",
    "\n",
    "            # check for specified values in the data\n",
    "            num_value_da_sub = check_for_values(da_sub, **kwargs)\n",
    "            num_value_da_daily = check_for_values(da_daily, **kwargs)\n",
    "            print(f\"da_sub: {num_value_da_sub}...\\tda_daily: {num_value_da_daily}...\\tmy_data: {num_value_my_data}...\")\n",
    "        except Exception as e:\n",
    "            print(f'Error processing var: {var_dict[var]}.\\n\\n{e}')"
   ]
  },
  {
   "cell_type": "code",
   "execution_count": 14,
   "id": "26ae92b9-7a90-4804-a1ce-d7cfeed226f4",
   "metadata": {},
   "outputs": [],
   "source": [
    "def find_var_base_dir(var, **kwargs):\n",
    "    base_dir = kwargs.get('base_dir', rda_era5_path)  # default to rda_era5_path, but user can specify others\n",
    "    # loop through rda_era5_path sub directories to find the base directory of var\n",
    "    contents = os.listdir(base_dir)  # all contents in rda_era5_path\n",
    "    dirs = [item for item in contents if os.path.isdir(os.path.join(base_dir, item))]  # just directories, not files\n",
    "    for dir in dirs:\n",
    "        files = os.listdir(f'{base_dir}{dir}/{198001}')\n",
    "        for file in files:\n",
    "            if f'_{var}.' in file:  # check for existence of the var key in the file names\n",
    "                return os.path.join(base_dir, dir)\n",
    "    return None  # sub directory not found"
   ]
  },
  {
   "cell_type": "code",
   "execution_count": 15,
   "id": "a26565e2-dc60-4893-8f93-1004b7c0661e",
   "metadata": {},
   "outputs": [],
   "source": [
    "def get_rda_files(var, year, var_base_dir, **kwargs):\n",
    "    # loop through base_path and create a list of file paths for the .nc files for var\n",
    "    files = glob.glob(f'{var_base_dir}/{year}??/*_{var}.*.nc')\n",
    "    files.sort()\n",
    "    return files"
   ]
  },
  {
   "cell_type": "code",
   "execution_count": 16,
   "id": "64cc3905-dc3d-4a7d-94f9-122df2723902",
   "metadata": {},
   "outputs": [],
   "source": [
    "def subset_data_coords(da, **kwargs):\n",
    "    coords = [240, 260, 40, 20]\n",
    "    lons = slice(coords[0], coords[1])\n",
    "    lats = slice(coords[2], coords[3])\n",
    "    # subset the data\n",
    "    return da.sel(latitude=lats, longitude=lons, drop=True)"
   ]
  },
  {
   "cell_type": "code",
   "execution_count": 17,
   "id": "448a6284-4967-41cd-9499-3c215a1ad0b0",
   "metadata": {},
   "outputs": [],
   "source": [
    "def subset_data_daily(var, da, **kwargs):\n",
    "    if var in sfc_accumu_list:\n",
    "        da = da.sum(dim='forecast_hour', skipna=True).resample(forecast_initial_time='1D').sum(skipna=True)\n",
    "        return da.rename({'forecast_initial_time': 'time'}) # rename time dimension\n",
    "    elif var in sfc_instan_list:\n",
    "        return da.resample(time='1D').mean('time', skipna=True)\n",
    "    elif var in pl_var_list:\n",
    "        return da.sel(level=500, drop=True).resample(time='1D').mean('time', skipna=True)"
   ]
  },
  {
   "cell_type": "code",
   "execution_count": 18,
   "id": "f4706401-ccae-48ea-8f7a-c6ae0f20f17b",
   "metadata": {},
   "outputs": [],
   "source": [
    "def check_for_values(da, **kwargs):\n",
    "    # check data for specified values\n",
    "    value = str(kwargs.get('value_to_check', 'not_finite'))  # default to nan, but user can specify others\n",
    "    if value == 'not_finite':\n",
    "        return (~np.isfinite(da)).sum().compute().values\n",
    "    elif value == 'nan':\n",
    "        return da.isnull().sum().compute().values\n",
    "    elif value == 'inf':\n",
    "        return np.isinf(da).sum().compute().values\n",
    "    elif value == 'finite':\n",
    "        return np.isfinite(da).sum().compute().values\n",
    "    else:\n",
    "        return (da == float(value)).sum().compute().values"
   ]
  },
  {
   "cell_type": "code",
   "execution_count": 19,
   "id": "ce110b77-ca9b-4f27-b9bd-bd4be0c30140",
   "metadata": {},
   "outputs": [],
   "source": [
    "# # run the code\n",
    "# if __name__ == '__main__':\n",
    "#     main('cp')"
   ]
  },
  {
   "cell_type": "code",
   "execution_count": null,
   "id": "2c21cdcd-46a0-4387-a726-5bdd2a2cbc32",
   "metadata": {},
   "outputs": [],
   "source": [
    "# if __name__ == '__main__':\n",
    "    var_list = sfc_accumu_list + sfc_instan_list + pl_var_list\n",
    "    var_list = [v for v in var_list if v not in derived_var_list]\n",
    "    for var in var_list:\n",
    "        main(var)"
   ]
  },
  {
   "cell_type": "code",
   "execution_count": null,
   "id": "f800543f-92d4-4f53-a5e3-0ec5e16885ba",
   "metadata": {},
   "outputs": [],
   "source": []
  }
 ],
 "metadata": {
  "kernelspec": {
   "display_name": "Python [conda env:.conda-mland_xr]",
   "language": "python",
   "name": "conda-env-.conda-mland_xr-py"
  },
  "language_info": {
   "codemirror_mode": {
    "name": "ipython",
    "version": 3
   },
   "file_extension": ".py",
   "mimetype": "text/x-python",
   "name": "python",
   "nbconvert_exporter": "python",
   "pygments_lexer": "ipython3",
   "version": "3.9.7"
  }
 },
 "nbformat": 4,
 "nbformat_minor": 5
}
