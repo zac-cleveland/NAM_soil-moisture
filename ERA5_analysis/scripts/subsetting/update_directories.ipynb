{
 "cells": [
  {
   "cell_type": "markdown",
   "id": "4284305f-701f-4cae-a949-c9bbae037613",
   "metadata": {},
   "source": [
    "This code loops through a \"root directory\", finds any python (.py) or jupyter notebook (.ipynb) file, looks through the code to find a specified \"old directory\", and updates that line the include the \"new directory\".  For example, if you have a directory path to some data, data_dir = /path/to/my/data, but you have made changes to your directory structure and the data now exists in /path/to/my/<new_subdirectory>/data, the code will find /path/to/my/data, and update it to /path/to/my/<new_subdirector>/data, so long as the root_dir, old_dir, and new_dir are properly specified before running the code."
   ]
  },
  {
   "cell_type": "code",
   "execution_count": 1,
   "id": "769c8d7a-8acc-4925-8c6e-6afe53f0fd6e",
   "metadata": {},
   "outputs": [],
   "source": [
    "# import needed functions\n",
    "import os\n",
    "import glob\n",
    "import fileinput"
   ]
  },
  {
   "cell_type": "code",
   "execution_count": 2,
   "id": "3c91c9f0-2959-45c2-8554-2d67c9b48299",
   "metadata": {},
   "outputs": [],
   "source": [
    "# define root_directory, old_directory, and new_directory\n",
    "root_dir = \"/glade/u/home/zcleveland/NAM_soil-moisture\"\n",
    "old_dir = \"/EXAMPLE/PATH/FOR/DIR/UPDATE/FUNCTION/\"\n",
    "new_dir = \"/EXAMPLE/PATH/FOR/Hello_World/DIR/UPDATE/FUNCTION/\""
   ]
  },
  {
   "cell_type": "code",
   "execution_count": 28,
   "id": "439ff9d5-404a-47ee-a0ec-51bb18ec9ad6",
   "metadata": {},
   "outputs": [],
   "source": [
    "# define function to check existence of directories\n",
    "# return bool - False when there ARE missing directories AND user wants to not continue\n",
    "def check_directories(root_dir, old_dir, new_dir):\n",
    "    dir_dict = {\n",
    "        \"root_dir\": os.path.exists(root_dir),\n",
    "        \"old_dir\": os.path.exists(old_dir),\n",
    "        \"new_dir\": os.path.exists(new_dir)\n",
    "    }\n",
    "    missing_dirs = [key for key, value in dir_dict.items() if not value]\n",
    "    if missing_dirs:\n",
    "        print(\"The following directories do not exist:\")\n",
    "        for dir in missing_dirs:\n",
    "            print(dir)\n",
    "    else:\n",
    "        print(\"All directories verified to exist:\")\n",
    "        print(f'\\nroot_dir <{root_dir}>',\n",
    "              f'\\nold_dir <{old_dir}>',\n",
    "              f'\\nnew_dir <{new_dir}>')\n",
    "    return missing_dirs"
   ]
  },
  {
   "cell_type": "code",
   "execution_count": 30,
   "id": "7b049956-fad4-45a6-902c-0f7012df648f",
   "metadata": {},
   "outputs": [],
   "source": [
    "# define function to make user verify they want to continue\n",
    "def verify_continue():\n",
    "    user_input = input('Continue anyway?'\n",
    "                       '\\n\"y\" for yes. Press any other key to abort:')\n",
    "    if user_input.lower() != 'y':  # abort code\n",
    "        print(f'You selected: \"{user_input}\". Code will not run.')\n",
    "        return False\n",
    "    else:  # continue code\n",
    "        print(f'You selected: \"{user_input}\". Code will continue.')\n",
    "        return True"
   ]
  },
  {
   "cell_type": "code",
   "execution_count": 34,
   "id": "cf647b56-cf96-4e0c-ada4-88a6a28df88a",
   "metadata": {},
   "outputs": [],
   "source": [
    "# define the function to find the .py and .ipynb files\n",
    "def find_python_scripts(root_dir):\n",
    "    py_file_paths = []\n",
    "    # traverse through all directories and subdirectories\n",
    "    for dir_path, _, files in os.walk(root_dir):\n",
    "        for file_name in files:\n",
    "            if file_name.endswith(('.py', '.ipynb')):\n",
    "                py_file_paths.append(os.path.join(dir_path, file_name))\n",
    "    # return python and jupyter notebook files\n",
    "    return py_file_paths"
   ]
  },
  {
   "cell_type": "code",
   "execution_count": 35,
   "id": "1e54d423-043c-4ec0-a0ab-854ea86a1b48",
   "metadata": {},
   "outputs": [],
   "source": [
    "# define a function to find which files will be updated\n",
    "def files_to_update(py_file_paths, old_dir, new_dir):\n",
    "    update_files = []\n",
    "    # loop through py files and \n",
    "    for file_path in py_file_paths:\n",
    "        # read in contents\n",
    "        with open(file_path, 'r') as file:\n",
    "            file_contents = file.read()\n",
    "\n",
    "        # replace old contents with new contents\n",
    "        new_contents = file_contents.replace(old_dir, new_dir)\n",
    "        if new_contents != file_contents:  # only append to list if file and new contents are different\n",
    "            update_files.append(file_path)\n",
    "    print('The following files will be updated:')\n",
    "    for file in update_files:\n",
    "        print(file)\n",
    "\n",
    "    return update_files  # only files that will be updated"
   ]
  },
  {
   "cell_type": "code",
   "execution_count": null,
   "id": "bf761c06-daf0-4ad5-96c2-2072315db165",
   "metadata": {},
   "outputs": [],
   "source": [
    "# define a function to replace old_dir with new_dir\n",
    "def update_py_files(update_files, old_dir, new_dir):\n",
    "    # loop through py files and update them\n",
    "    for py_file in update_files:\n",
    "        # open files and read contents\n",
    "        with open(py_file, 'r') as file:\n",
    "            file_contents = file.read()\n",
    "\n",
    "        new_contents = file_contents.replace(old_dir, new_dir)\n",
    "        # write updated contents back to file\n",
    "        with open(py_file, 'w') as file:\n",
    "            file.write(new_contents)"
   ]
  },
  {
   "cell_type": "code",
   "execution_count": null,
   "id": "5789c442-13cd-49d5-94fc-5cf23ec9df00",
   "metadata": {},
   "outputs": [],
   "source": [
    "# define the function to actually run all of this code\n",
    "def update_directories(root_dir, old_dir, new_dir):\n",
    "\n",
    "    # check for any non-existent directories and abort if any don't exist\n",
    "    if check_directories(root_dir, old_dir, new_dir):\n",
    "        return\n",
    "\n",
    "    # find all python and jupyter notebook files in root_dir\n",
    "    py_file_paths = find_python_scripts(root_dir)\n",
    "\n",
    "    # list files that will be updated\n",
    "    update_files = files_to_update(py_file_paths, old_dir, new_dir)\n",
    "\n",
    "    # verify the user wants to continue\n",
    "    if not verify_continue():  # abort\n",
    "        return\n",
    "    else:  # continue with updates\n",
    "        update_py_files(update_files, old_dir, new_dir)"
   ]
  },
  {
   "cell_type": "code",
   "execution_count": null,
   "id": "e55efed6-9094-44d8-9867-ae0856402316",
   "metadata": {},
   "outputs": [],
   "source": [
    "# run the code\n",
    "if __name__ == '__main__':\n",
    "    update_directories(root_dir, old_dir, new_dir)"
   ]
  }
 ],
 "metadata": {
  "kernelspec": {
   "display_name": "Python [conda env:.conda-mland_xr]",
   "language": "python",
   "name": "conda-env-.conda-mland_xr-py"
  },
  "language_info": {
   "codemirror_mode": {
    "name": "ipython",
    "version": 3
   },
   "file_extension": ".py",
   "mimetype": "text/x-python",
   "name": "python",
   "nbconvert_exporter": "python",
   "pygments_lexer": "ipython3",
   "version": "3.9.7"
  }
 },
 "nbformat": 4,
 "nbformat_minor": 5
}
